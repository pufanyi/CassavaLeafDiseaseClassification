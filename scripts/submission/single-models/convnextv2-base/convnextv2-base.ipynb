{
 "cells": [
  {
   "cell_type": "markdown",
   "id": "31e5fe4a",
   "metadata": {
    "papermill": {
     "duration": 0.004175,
     "end_time": "2024-10-24T09:42:35.378596",
     "exception": false,
     "start_time": "2024-10-24T09:42:35.374421",
     "status": "completed"
    },
    "tags": []
   },
   "source": [
    "# SC4000 ConvNeXt Base Full"
   ]
  },
  {
   "cell_type": "code",
   "execution_count": 1,
   "id": "4000ae27",
   "metadata": {
    "execution": {
     "iopub.execute_input": "2024-10-24T09:42:35.387307Z",
     "iopub.status.busy": "2024-10-24T09:42:35.386915Z",
     "iopub.status.idle": "2024-10-24T09:42:53.752663Z",
     "shell.execute_reply": "2024-10-24T09:42:53.751703Z"
    },
    "papermill": {
     "duration": 18.3728,
     "end_time": "2024-10-24T09:42:53.755164",
     "exception": false,
     "start_time": "2024-10-24T09:42:35.382364",
     "status": "completed"
    },
    "tags": []
   },
   "outputs": [],
   "source": [
    "from transformers import AutoImageProcessor, AutoModelForImageClassification"
   ]
  },
  {
   "cell_type": "code",
   "execution_count": 2,
   "id": "37846f78",
   "metadata": {
    "execution": {
     "iopub.execute_input": "2024-10-24T09:42:53.764272Z",
     "iopub.status.busy": "2024-10-24T09:42:53.763381Z",
     "iopub.status.idle": "2024-10-24T09:42:53.768299Z",
     "shell.execute_reply": "2024-10-24T09:42:53.767441Z"
    },
    "papermill": {
     "duration": 0.011222,
     "end_time": "2024-10-24T09:42:53.770161",
     "exception": false,
     "start_time": "2024-10-24T09:42:53.758939",
     "status": "completed"
    },
    "tags": []
   },
   "outputs": [],
   "source": [
    "id2label = {\n",
    "    0: \"Cassava Bacterial Blight (CBB)\",\n",
    "    1: \"Cassava Brown Streak Disease (CBSD)\",\n",
    "    2: \"Cassava Green Mottle (CGM)\",\n",
    "    3: \"Cassava Mosaic Disease (CMD)\",\n",
    "    4: \"Healthy\",\n",
    "}\n",
    "label2id = {\n",
    "    \"Cassava Bacterial Blight (CBB)\": 0,\n",
    "    \"Cassava Brown Streak Disease (CBSD)\": 1,\n",
    "    \"Cassava Green Mottle (CGM)\": 2,\n",
    "    \"Cassava Mosaic Disease (CMD)\": 3,\n",
    "    \"Healthy\": 4,\n",
    "}"
   ]
  },
  {
   "cell_type": "code",
   "execution_count": 3,
   "id": "fa517a4d",
   "metadata": {
    "execution": {
     "iopub.execute_input": "2024-10-24T09:42:53.778323Z",
     "iopub.status.busy": "2024-10-24T09:42:53.778035Z",
     "iopub.status.idle": "2024-10-24T09:42:53.781821Z",
     "shell.execute_reply": "2024-10-24T09:42:53.781115Z"
    },
    "papermill": {
     "duration": 0.010073,
     "end_time": "2024-10-24T09:42:53.783726",
     "exception": false,
     "start_time": "2024-10-24T09:42:53.773653",
     "status": "completed"
    },
    "tags": []
   },
   "outputs": [],
   "source": [
    "model_path = \"/kaggle/input/sc4000-convnextv2-base/models\""
   ]
  },
  {
   "cell_type": "code",
   "execution_count": 4,
   "id": "acc829ea",
   "metadata": {
    "execution": {
     "iopub.execute_input": "2024-10-24T09:42:53.791841Z",
     "iopub.status.busy": "2024-10-24T09:42:53.791364Z",
     "iopub.status.idle": "2024-10-24T09:42:57.531619Z",
     "shell.execute_reply": "2024-10-24T09:42:57.530752Z"
    },
    "papermill": {
     "duration": 3.746673,
     "end_time": "2024-10-24T09:42:57.533844",
     "exception": false,
     "start_time": "2024-10-24T09:42:53.787171",
     "status": "completed"
    },
    "tags": []
   },
   "outputs": [],
   "source": [
    "model = AutoModelForImageClassification.from_pretrained(\n",
    "    model_path,\n",
    "    id2label=id2label,\n",
    "    label2id=label2id,\n",
    "    ignore_mismatched_sizes=True,\n",
    ")\n",
    "image_processor = AutoImageProcessor.from_pretrained(model_path)"
   ]
  },
  {
   "cell_type": "code",
   "execution_count": 5,
   "id": "505ca55b",
   "metadata": {
    "execution": {
     "iopub.execute_input": "2024-10-24T09:42:57.542455Z",
     "iopub.status.busy": "2024-10-24T09:42:57.542120Z",
     "iopub.status.idle": "2024-10-24T09:42:57.546425Z",
     "shell.execute_reply": "2024-10-24T09:42:57.545621Z"
    },
    "papermill": {
     "duration": 0.01081,
     "end_time": "2024-10-24T09:42:57.548417",
     "exception": false,
     "start_time": "2024-10-24T09:42:57.537607",
     "status": "completed"
    },
    "tags": []
   },
   "outputs": [],
   "source": [
    "from pathlib import Path\n",
    "\n",
    "folder = Path(\"/kaggle/input/cassava-leaf-disease-classification/test_images\")"
   ]
  },
  {
   "cell_type": "code",
   "execution_count": 6,
   "id": "6115f611",
   "metadata": {
    "execution": {
     "iopub.execute_input": "2024-10-24T09:42:57.557916Z",
     "iopub.status.busy": "2024-10-24T09:42:57.557297Z",
     "iopub.status.idle": "2024-10-24T09:43:07.902913Z",
     "shell.execute_reply": "2024-10-24T09:43:07.901893Z"
    },
    "papermill": {
     "duration": 10.353182,
     "end_time": "2024-10-24T09:43:07.905056",
     "exception": false,
     "start_time": "2024-10-24T09:42:57.551874",
     "status": "completed"
    },
    "tags": []
   },
   "outputs": [
    {
     "name": "stderr",
     "output_type": "stream",
     "text": [
      "/opt/conda/lib/python3.10/multiprocessing/popen_fork.py:66: RuntimeWarning: os.fork() was called. os.fork() is incompatible with multithreaded code, and JAX is multithreaded, so this will likely lead to a deadlock.\n",
      "  self.pid = os.fork()\n",
      "/opt/conda/lib/python3.10/multiprocessing/popen_fork.py:66: RuntimeWarning: os.fork() was called. os.fork() is incompatible with multithreaded code, and JAX is multithreaded, so this will likely lead to a deadlock.\n",
      "  self.pid = os.fork()\n"
     ]
    }
   ],
   "source": [
    "import PIL\n",
    "import torch\n",
    "from torch.utils.data import Dataset, DataLoader\n",
    "from torchvision.transforms import Compose, Normalize, Resize, CenterCrop, ToTensor\n",
    "\n",
    "\n",
    "class CassavaDataset(Dataset):\n",
    "    def __init__(self, folder, image_processor):\n",
    "        self.folder = folder\n",
    "        self.image_processor = image_processor\n",
    "        self.image_paths = list(folder.glob(\"*\"))\n",
    "        self.image_mean, self.image_std = (\n",
    "            self.image_processor.image_mean,\n",
    "            self.image_processor.image_std,\n",
    "        )\n",
    "        size = self.image_processor.size[\"height\"]\n",
    "        normalize = Normalize(mean=self.image_mean, std=self.image_std)\n",
    "        self.test_transforms = Compose(\n",
    "            [\n",
    "                Resize(size),\n",
    "                CenterCrop(size),\n",
    "                ToTensor(),\n",
    "                normalize,\n",
    "            ]\n",
    "        )\n",
    "\n",
    "    def __len__(self):\n",
    "        return len(self.image_paths)\n",
    "\n",
    "    def __getitem__(self, idx):\n",
    "        image_path = self.image_paths[idx]\n",
    "        with PIL.Image.open(image_path) as image:\n",
    "            inputs = self.test_transforms(image.convert(\"RGB\"))\n",
    "        return inputs, image_path.name\n",
    "\n",
    "\n",
    "submissions = []\n",
    "\n",
    "dataset = CassavaDataset(folder, image_processor)\n",
    "dataloader = DataLoader(\n",
    "    dataset, batch_size=16, num_workers=2\n",
    ")\n",
    "\n",
    "device = torch.device(\"cuda\" if torch.cuda.is_available() else \"cpu\")\n",
    "model.to(device)\n",
    "model.eval()\n",
    "\n",
    "with torch.no_grad():\n",
    "    for batch, image_names in dataloader:\n",
    "        outputs = model(batch.to(device))\n",
    "        predictions = outputs.logits.argmax(dim=-1).cpu().numpy()\n",
    "\n",
    "        submissions.extend(\n",
    "            {\"image_id\": image_name, \"label\": prediction.item()}\n",
    "            for image_name, prediction in zip(image_names, predictions)\n",
    "        )"
   ]
  },
  {
   "cell_type": "code",
   "execution_count": 7,
   "id": "fdbde34b",
   "metadata": {
    "execution": {
     "iopub.execute_input": "2024-10-24T09:43:07.914397Z",
     "iopub.status.busy": "2024-10-24T09:43:07.913745Z",
     "iopub.status.idle": "2024-10-24T09:43:07.921520Z",
     "shell.execute_reply": "2024-10-24T09:43:07.920713Z"
    },
    "papermill": {
     "duration": 0.014338,
     "end_time": "2024-10-24T09:43:07.923362",
     "exception": false,
     "start_time": "2024-10-24T09:43:07.909024",
     "status": "completed"
    },
    "tags": []
   },
   "outputs": [],
   "source": [
    "import pandas as pd\n",
    "\n",
    "df = pd.DataFrame(submissions)"
   ]
  },
  {
   "cell_type": "code",
   "execution_count": 8,
   "id": "107bb0ca",
   "metadata": {
    "execution": {
     "iopub.execute_input": "2024-10-24T09:43:07.931784Z",
     "iopub.status.busy": "2024-10-24T09:43:07.931314Z",
     "iopub.status.idle": "2024-10-24T09:43:07.946832Z",
     "shell.execute_reply": "2024-10-24T09:43:07.946035Z"
    },
    "papermill": {
     "duration": 0.021795,
     "end_time": "2024-10-24T09:43:07.948794",
     "exception": false,
     "start_time": "2024-10-24T09:43:07.926999",
     "status": "completed"
    },
    "tags": []
   },
   "outputs": [
    {
     "data": {
      "text/html": [
       "<div>\n",
       "<style scoped>\n",
       "    .dataframe tbody tr th:only-of-type {\n",
       "        vertical-align: middle;\n",
       "    }\n",
       "\n",
       "    .dataframe tbody tr th {\n",
       "        vertical-align: top;\n",
       "    }\n",
       "\n",
       "    .dataframe thead th {\n",
       "        text-align: right;\n",
       "    }\n",
       "</style>\n",
       "<table border=\"1\" class=\"dataframe\">\n",
       "  <thead>\n",
       "    <tr style=\"text-align: right;\">\n",
       "      <th></th>\n",
       "      <th>image_id</th>\n",
       "      <th>label</th>\n",
       "    </tr>\n",
       "  </thead>\n",
       "  <tbody>\n",
       "    <tr>\n",
       "      <th>0</th>\n",
       "      <td>2216849948.jpg</td>\n",
       "      <td>4</td>\n",
       "    </tr>\n",
       "  </tbody>\n",
       "</table>\n",
       "</div>"
      ],
      "text/plain": [
       "         image_id  label\n",
       "0  2216849948.jpg      4"
      ]
     },
     "execution_count": 8,
     "metadata": {},
     "output_type": "execute_result"
    }
   ],
   "source": [
    "df.head()"
   ]
  },
  {
   "cell_type": "code",
   "execution_count": 9,
   "id": "f354b419",
   "metadata": {
    "execution": {
     "iopub.execute_input": "2024-10-24T09:43:07.957719Z",
     "iopub.status.busy": "2024-10-24T09:43:07.957458Z",
     "iopub.status.idle": "2024-10-24T09:43:07.965054Z",
     "shell.execute_reply": "2024-10-24T09:43:07.964373Z"
    },
    "papermill": {
     "duration": 0.014123,
     "end_time": "2024-10-24T09:43:07.966847",
     "exception": false,
     "start_time": "2024-10-24T09:43:07.952724",
     "status": "completed"
    },
    "tags": []
   },
   "outputs": [],
   "source": [
    "df.to_csv(\"submission.csv\", index=False)"
   ]
  },
  {
   "cell_type": "code",
   "execution_count": null,
   "id": "bbde33f3",
   "metadata": {
    "papermill": {
     "duration": 0.003643,
     "end_time": "2024-10-24T09:43:07.974251",
     "exception": false,
     "start_time": "2024-10-24T09:43:07.970608",
     "status": "completed"
    },
    "tags": []
   },
   "outputs": [],
   "source": []
  }
 ],
 "metadata": {
  "kaggle": {
   "accelerator": "gpu",
   "dataSources": [
    {
     "databundleVersionId": 1718836,
     "sourceId": 13836,
     "sourceType": "competition"
    },
    {
     "datasetId": 5938625,
     "sourceId": 9709258,
     "sourceType": "datasetVersion"
    }
   ],
   "dockerImageVersionId": 30787,
   "isGpuEnabled": true,
   "isInternetEnabled": false,
   "language": "python",
   "sourceType": "notebook"
  },
  "kernelspec": {
   "display_name": "Python 3",
   "language": "python",
   "name": "python3"
  },
  "language_info": {
   "codemirror_mode": {
    "name": "ipython",
    "version": 3
   },
   "file_extension": ".py",
   "mimetype": "text/x-python",
   "name": "python",
   "nbconvert_exporter": "python",
   "pygments_lexer": "ipython3",
   "version": "3.10.14"
  },
  "papermill": {
   "default_parameters": {},
   "duration": 38.684352,
   "end_time": "2024-10-24T09:43:11.405822",
   "environment_variables": {},
   "exception": null,
   "input_path": "__notebook__.ipynb",
   "output_path": "__notebook__.ipynb",
   "parameters": {},
   "start_time": "2024-10-24T09:42:32.721470",
   "version": "2.6.0"
  }
 },
 "nbformat": 4,
 "nbformat_minor": 5
}
