{
 "cells": [
  {
   "cell_type": "code",
   "execution_count": null,
   "metadata": {
    "_cell_guid": "b1076dfc-b9ad-4769-8c92-a6c4dae69d19",
    "_uuid": "8f2839f25d086af736a60e9eeb907d3b93b6e0e5",
    "execution": {
     "iopub.execute_input": "2024-10-27T16:58:14.946322Z",
     "iopub.status.busy": "2024-10-27T16:58:14.945931Z",
     "iopub.status.idle": "2024-10-27T16:58:19.182460Z",
     "shell.execute_reply": "2024-10-27T16:58:19.181498Z",
     "shell.execute_reply.started": "2024-10-27T16:58:14.946284Z"
    },
    "trusted": true
   },
   "outputs": [],
   "source": [
    "from huggingface_hub import from_pretrained_keras\n",
    "\n",
    "model = from_pretrained_keras(\"/kaggle/input/cropnet-mobilenetv3/models\")"
   ]
  },
  {
   "cell_type": "code",
   "execution_count": null,
   "metadata": {
    "execution": {
     "iopub.execute_input": "2024-10-27T16:58:19.192732Z",
     "iopub.status.busy": "2024-10-27T16:58:19.192415Z",
     "iopub.status.idle": "2024-10-27T16:58:19.197090Z",
     "shell.execute_reply": "2024-10-27T16:58:19.196132Z",
     "shell.execute_reply.started": "2024-10-27T16:58:19.192699Z"
    },
    "trusted": true
   },
   "outputs": [],
   "source": [
    "image_size = 224\n",
    "resize_scale = 1.5\n",
    "image_resize_shape = int(resize_scale * image_size)\n",
    "batch_size = 32"
   ]
  },
  {
   "cell_type": "code",
   "execution_count": null,
   "metadata": {
    "execution": {
     "iopub.execute_input": "2024-10-27T16:58:19.198718Z",
     "iopub.status.busy": "2024-10-27T16:58:19.198334Z",
     "iopub.status.idle": "2024-10-27T16:58:19.208367Z",
     "shell.execute_reply": "2024-10-27T16:58:19.207585Z",
     "shell.execute_reply.started": "2024-10-27T16:58:19.198673Z"
    },
    "trusted": true
   },
   "outputs": [],
   "source": [
    "import tf_keras as keras\n",
    "from pathlib import Path\n",
    "import tensorflow as tf"
   ]
  },
  {
   "cell_type": "code",
   "execution_count": null,
   "metadata": {
    "execution": {
     "iopub.execute_input": "2024-10-27T16:58:19.210751Z",
     "iopub.status.busy": "2024-10-27T16:58:19.210447Z",
     "iopub.status.idle": "2024-10-27T16:58:19.218243Z",
     "shell.execute_reply": "2024-10-27T16:58:19.217489Z",
     "shell.execute_reply.started": "2024-10-27T16:58:19.210719Z"
    },
    "trusted": true
   },
   "outputs": [],
   "source": [
    "val_transforms = [\n",
    "    lambda img: tf.image.resize(img, (image_resize_shape, image_resize_shape)),\n",
    "    lambda img: tf.image.resize_with_crop_or_pad(\n",
    "        img, target_height=image_size, target_width=image_size\n",
    "    ),\n",
    "    lambda img: img / 255.0,\n",
    "]\n",
    "\n",
    "\n",
    "def val_image_transforms(image):\n",
    "    for fn in val_transforms:\n",
    "        image = fn(image)\n",
    "    return image"
   ]
  },
  {
   "cell_type": "code",
   "execution_count": null,
   "metadata": {
    "execution": {
     "iopub.execute_input": "2024-10-27T16:58:19.219433Z",
     "iopub.status.busy": "2024-10-27T16:58:19.219174Z",
     "iopub.status.idle": "2024-10-27T16:58:19.231711Z",
     "shell.execute_reply": "2024-10-27T16:58:19.230914Z",
     "shell.execute_reply.started": "2024-10-27T16:58:19.219403Z"
    },
    "trusted": true
   },
   "outputs": [],
   "source": [
    "from PIL import Image\n",
    "\n",
    "\n",
    "def open_image(path):\n",
    "    with Image.open(path) as image:\n",
    "        image = keras.utils.img_to_array(image)\n",
    "    return val_image_transforms(image)"
   ]
  },
  {
   "cell_type": "code",
   "execution_count": null,
   "metadata": {
    "execution": {
     "iopub.execute_input": "2024-10-27T16:58:19.232821Z",
     "iopub.status.busy": "2024-10-27T16:58:19.232571Z",
     "iopub.status.idle": "2024-10-27T16:58:19.272143Z",
     "shell.execute_reply": "2024-10-27T16:58:19.271413Z",
     "shell.execute_reply.started": "2024-10-27T16:58:19.232792Z"
    },
    "trusted": true
   },
   "outputs": [],
   "source": [
    "folder = Path(\"/kaggle/input/cassava-leaf-disease-classification/test_images\")\n",
    "images = [(path.name, open_image(path)) for path in folder.glob(\"*\")]"
   ]
  },
  {
   "cell_type": "code",
   "execution_count": null,
   "metadata": {
    "execution": {
     "iopub.execute_input": "2024-10-27T16:58:19.273453Z",
     "iopub.status.busy": "2024-10-27T16:58:19.273167Z",
     "iopub.status.idle": "2024-10-27T16:58:19.277694Z",
     "shell.execute_reply": "2024-10-27T16:58:19.276736Z",
     "shell.execute_reply.started": "2024-10-27T16:58:19.273421Z"
    },
    "trusted": true
   },
   "outputs": [],
   "source": [
    "ids, inputs = map(list, zip(*images))"
   ]
  },
  {
   "cell_type": "code",
   "execution_count": null,
   "metadata": {
    "execution": {
     "iopub.execute_input": "2024-10-27T16:58:19.279293Z",
     "iopub.status.busy": "2024-10-27T16:58:19.278964Z",
     "iopub.status.idle": "2024-10-27T16:58:19.291274Z",
     "shell.execute_reply": "2024-10-27T16:58:19.290524Z",
     "shell.execute_reply.started": "2024-10-27T16:58:19.279260Z"
    },
    "trusted": true
   },
   "outputs": [],
   "source": [
    "input_data = (\n",
    "    tf.data.experimental.from_list(inputs)\n",
    "    .batch(batch_size)\n",
    "    .prefetch(tf.data.experimental.AUTOTUNE)\n",
    ")"
   ]
  },
  {
   "cell_type": "code",
   "execution_count": null,
   "metadata": {
    "execution": {
     "iopub.execute_input": "2024-10-27T16:58:19.305275Z",
     "iopub.status.busy": "2024-10-27T16:58:19.305001Z",
     "iopub.status.idle": "2024-10-27T16:58:19.981941Z",
     "shell.execute_reply": "2024-10-27T16:58:19.981031Z",
     "shell.execute_reply.started": "2024-10-27T16:58:19.305244Z"
    },
    "trusted": true
   },
   "outputs": [],
   "source": [
    "outputs = model.predict(input_data)[:, :-1]"
   ]
  },
  {
   "cell_type": "code",
   "execution_count": null,
   "metadata": {
    "execution": {
     "iopub.execute_input": "2024-10-27T16:58:19.983399Z",
     "iopub.status.busy": "2024-10-27T16:58:19.983100Z",
     "iopub.status.idle": "2024-10-27T16:58:19.988551Z",
     "shell.execute_reply": "2024-10-27T16:58:19.987462Z",
     "shell.execute_reply.started": "2024-10-27T16:58:19.983364Z"
    },
    "trusted": true
   },
   "outputs": [],
   "source": [
    "labels = tf.argmax(outputs, axis=-1).numpy()"
   ]
  },
  {
   "cell_type": "code",
   "execution_count": null,
   "metadata": {
    "execution": {
     "iopub.execute_input": "2024-10-27T16:58:19.989853Z",
     "iopub.status.busy": "2024-10-27T16:58:19.989578Z",
     "iopub.status.idle": "2024-10-27T16:58:19.998045Z",
     "shell.execute_reply": "2024-10-27T16:58:19.997206Z",
     "shell.execute_reply.started": "2024-10-27T16:58:19.989822Z"
    },
    "trusted": true
   },
   "outputs": [],
   "source": [
    "import pandas as pd\n",
    "\n",
    "df = pd.DataFrame({\"image_id\": ids, \"label\": labels})"
   ]
  },
  {
   "cell_type": "code",
   "execution_count": null,
   "metadata": {
    "execution": {
     "iopub.execute_input": "2024-10-27T16:58:20.000042Z",
     "iopub.status.busy": "2024-10-27T16:58:19.999213Z",
     "iopub.status.idle": "2024-10-27T16:58:20.012463Z",
     "shell.execute_reply": "2024-10-27T16:58:20.011599Z",
     "shell.execute_reply.started": "2024-10-27T16:58:19.999996Z"
    },
    "trusted": true
   },
   "outputs": [],
   "source": [
    "df"
   ]
  },
  {
   "cell_type": "code",
   "execution_count": null,
   "metadata": {
    "execution": {
     "iopub.execute_input": "2024-10-27T16:58:20.013940Z",
     "iopub.status.busy": "2024-10-27T16:58:20.013589Z",
     "iopub.status.idle": "2024-10-27T16:58:20.020897Z",
     "shell.execute_reply": "2024-10-27T16:58:20.020142Z",
     "shell.execute_reply.started": "2024-10-27T16:58:20.013894Z"
    },
    "trusted": true
   },
   "outputs": [],
   "source": [
    "df.to_csv(\"submission.csv\", index=False)"
   ]
  },
  {
   "cell_type": "code",
   "execution_count": null,
   "metadata": {},
   "outputs": [],
   "source": []
  }
 ],
 "metadata": {
  "kaggle": {
   "accelerator": "gpu",
   "dataSources": [
    {
     "databundleVersionId": 1718836,
     "sourceId": 13836,
     "sourceType": "competition"
    },
    {
     "datasetId": 5959843,
     "sourceId": 9737461,
     "sourceType": "datasetVersion"
    }
   ],
   "dockerImageVersionId": 30787,
   "isGpuEnabled": true,
   "isInternetEnabled": false,
   "language": "python",
   "sourceType": "notebook"
  },
  "kernelspec": {
   "display_name": "Python 3",
   "language": "python",
   "name": "python3"
  },
  "language_info": {
   "codemirror_mode": {
    "name": "ipython",
    "version": 3
   },
   "file_extension": ".py",
   "mimetype": "text/x-python",
   "name": "python",
   "nbconvert_exporter": "python",
   "pygments_lexer": "ipython3",
   "version": "3.10.14"
  }
 },
 "nbformat": 4,
 "nbformat_minor": 4
}
