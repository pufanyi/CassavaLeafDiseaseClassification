{
 "cells": [
  {
   "cell_type": "code",
   "execution_count": null,
   "metadata": {},
   "outputs": [],
   "source": [
    "from transformers import AutoImageProcessor, AutoModelForImageClassification\n",
    "\n",
    "id2label = {\n",
    "    0: \"Cassava Bacterial Blight (CBB)\",\n",
    "    1: \"Cassava Brown Streak Disease (CBSD)\",\n",
    "    2: \"Cassava Green Mottle (CGM)\",\n",
    "    3: \"Cassava Mosaic Disease (CMD)\",\n",
    "    4: \"Healthy\",\n",
    "}\n",
    "label2id = {\n",
    "    \"Cassava Bacterial Blight (CBB)\": 0,\n",
    "    \"Cassava Brown Streak Disease (CBSD)\": 1,\n",
    "    \"Cassava Green Mottle (CGM)\": 2,\n",
    "    \"Cassava Mosaic Disease (CMD)\": 3,\n",
    "    \"Healthy\": 4,\n",
    "}"
   ]
  },
  {
   "cell_type": "code",
   "execution_count": null,
   "metadata": {},
   "outputs": [],
   "source": [
    "import PIL\n",
    "import torch\n",
    "from torch.utils.data import Dataset, DataLoader\n",
    "from torchvision.transforms import Compose, Normalize, Resize, CenterCrop, ToTensor\n",
    "\n",
    "\n",
    "class CassavaDataset(Dataset):\n",
    "    def __init__(self, folder, image_processor):\n",
    "        self.folder = folder\n",
    "        self.image_processor = image_processor\n",
    "        self.image_paths = list(folder.glob(\"*\"))\n",
    "        self.image_mean, self.image_std = (\n",
    "            self.image_processor.image_mean,\n",
    "            self.image_processor.image_std,\n",
    "        )\n",
    "        size = self.image_processor.size[\"shortest_edge\"]\n",
    "        normalize = Normalize(mean=self.image_mean, std=self.image_std)\n",
    "        self.test_transforms = Compose(\n",
    "            [\n",
    "                Resize(size),\n",
    "                CenterCrop(size),\n",
    "                ToTensor(),\n",
    "                normalize,\n",
    "            ]\n",
    "        )\n",
    "\n",
    "    def __len__(self):\n",
    "        return len(self.image_paths)\n",
    "\n",
    "    def __getitem__(self, idx):\n",
    "        image_path = self.image_paths[idx]\n",
    "        with PIL.Image.open(image_path) as image:\n",
    "            inputs = self.test_transforms(image.convert(\"RGB\"))\n",
    "        return inputs, image_path.name\n",
    "\n"
   ]
  },
  {
   "cell_type": "markdown",
   "metadata": {},
   "source": [
    "# ViT full"
   ]
  },
  {
   "cell_type": "code",
   "execution_count": null,
   "metadata": {},
   "outputs": [],
   "source": [
    "model_path = \"/kaggle/input/sc4000-vit-large/models\""
   ]
  },
  {
   "cell_type": "code",
   "execution_count": null,
   "metadata": {},
   "outputs": [],
   "source": [
    "vit_outputs = []\n",
    "\n",
    "dataset = CassavaDataset(folder, image_processor)\n",
    "dataloader = DataLoader(dataset, batch_size=16)\n",
    "\n",
    "device = torch.device(\"cuda\" if torch.cuda.is_available() else \"cpu\")\n",
    "model.to(device)\n",
    "model.eval()\n",
    "\n",
    "with torch.no_grad():\n",
    "    for batch, image_names in dataloader:\n",
    "        outputs = model(batch.to(device))\n",
    "        # predictions = outputs.logits.argmax(dim=-1).cpu().numpy()\n",
    "\n",
    "        submissions.extend(\n",
    "            {\"image_id\": image_name, \"output\": outputs}\n",
    "            for image_name, prediction in zip(image_names, predictions)\n",
    "        )"
   ]
  }
 ],
 "metadata": {
  "kernelspec": {
   "display_name": "sc4000",
   "language": "python",
   "name": "python3"
  },
  "language_info": {
   "name": "python",
   "version": "3.11.10"
  }
 },
 "nbformat": 4,
 "nbformat_minor": 2
}
