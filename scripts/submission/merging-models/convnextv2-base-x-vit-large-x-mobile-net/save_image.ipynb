{
 "cells": [
  {
   "cell_type": "code",
   "execution_count": 2,
   "metadata": {},
   "outputs": [
    {
     "name": "stderr",
     "output_type": "stream",
     "text": [
      "/data/pufanyi/anaconda3/conda/envs/sc4000/lib/python3.11/site-packages/tqdm/auto.py:21: TqdmWarning: IProgress not found. Please update jupyter and ipywidgets. See https://ipywidgets.readthedocs.io/en/stable/user_install.html\n",
      "  from .autonotebook import tqdm as notebook_tqdm\n"
     ]
    }
   ],
   "source": [
    "from datasets import load_dataset\n",
    "\n",
    "dataset = load_dataset(\"pufanyi/cassava-leaf-disease-classification\", \"full\")"
   ]
  },
  {
   "cell_type": "code",
   "execution_count": 3,
   "metadata": {},
   "outputs": [
    {
     "name": "stdout",
     "output_type": "stream",
     "text": [
      "image_id\n",
      "image\n",
      "label\n"
     ]
    }
   ],
   "source": [
    "validation = dataset[\"validation\"]\n",
    "for data in validation[:10]:\n",
    "    print(data)"
   ]
  },
  {
   "cell_type": "code",
   "execution_count": 4,
   "metadata": {},
   "outputs": [],
   "source": [
    "import os\n",
    "\n",
    "os.makedirs(\"image\", exist_ok=True)\n",
    "for data in validation:\n",
    "    # save data.image as image/{data.image_id}\n",
    "    data[\"image\"].save(f\"image/{data['image_id']}\")"
   ]
  },
  {
   "cell_type": "code",
   "execution_count": 6,
   "metadata": {},
   "outputs": [],
   "source": [
    "import os\n",
    "\n",
    "os.makedirs(\"result\", exist_ok=True)\n",
    "result_map = {}\n",
    "for data in validation:\n",
    "    result_map[data[\"image_id\"]] = data[\"label\"]\n",
    "import json\n",
    "\n",
    "with open(\"result/ground_truth.json\", \"w\") as f:\n",
    "    json.dump(result_map, f)"
   ]
  }
 ],
 "metadata": {
  "kernelspec": {
   "display_name": "sc4000",
   "language": "python",
   "name": "python3"
  },
  "language_info": {
   "codemirror_mode": {
    "name": "ipython",
    "version": 3
   },
   "file_extension": ".py",
   "mimetype": "text/x-python",
   "name": "python",
   "nbconvert_exporter": "python",
   "pygments_lexer": "ipython3",
   "version": "3.11.10"
  }
 },
 "nbformat": 4,
 "nbformat_minor": 2
}
