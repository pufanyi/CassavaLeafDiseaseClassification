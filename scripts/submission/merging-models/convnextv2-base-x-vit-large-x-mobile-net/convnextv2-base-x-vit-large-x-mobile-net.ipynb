{
 "cells": [
  {
   "cell_type": "code",
   "execution_count": 1,
   "metadata": {
    "execution": {
     "iopub.execute_input": "2024-10-28T07:15:59.074730Z",
     "iopub.status.busy": "2024-10-28T07:15:59.074350Z",
     "iopub.status.idle": "2024-10-28T07:16:18.118936Z",
     "shell.execute_reply": "2024-10-28T07:16:18.118119Z",
     "shell.execute_reply.started": "2024-10-28T07:15:59.074668Z"
    },
    "trusted": true
   },
   "outputs": [
    {
     "name": "stderr",
     "output_type": "stream",
     "text": [
      "/home/shaosy/miniconda3/envs/SC4000/lib/python3.10/site-packages/tqdm/auto.py:21: TqdmWarning: IProgress not found. Please update jupyter and ipywidgets. See https://ipywidgets.readthedocs.io/en/stable/user_install.html\n",
      "  from .autonotebook import tqdm as notebook_tqdm\n",
      "2024-10-30 02:35:06.884508: E external/local_xla/xla/stream_executor/cuda/cuda_fft.cc:485] Unable to register cuFFT factory: Attempting to register factory for plugin cuFFT when one has already been registered\n",
      "2024-10-30 02:35:06.904364: E external/local_xla/xla/stream_executor/cuda/cuda_dnn.cc:8454] Unable to register cuDNN factory: Attempting to register factory for plugin cuDNN when one has already been registered\n",
      "2024-10-30 02:35:06.910283: E external/local_xla/xla/stream_executor/cuda/cuda_blas.cc:1452] Unable to register cuBLAS factory: Attempting to register factory for plugin cuBLAS when one has already been registered\n",
      "2024-10-30 02:35:06.925509: I tensorflow/core/platform/cpu_feature_guard.cc:210] This TensorFlow binary is optimized to use available CPU instructions in performance-critical operations.\n",
      "To enable the following instructions: AVX2 AVX512F FMA, in other operations, rebuild TensorFlow with the appropriate compiler flags.\n",
      "2024-10-30 02:35:07.892999: W tensorflow/compiler/tf2tensorrt/utils/py_utils.cc:38] TF-TRT Warning: Could not find TensorRT\n"
     ]
    }
   ],
   "source": [
    "from transformers import AutoImageProcessor, AutoModelForImageClassification\n",
    "import torch.nn.functional as F\n",
    "import numpy as np\n",
    "import PIL\n",
    "import torch\n",
    "from pathlib import Path\n",
    "import pandas as pd\n",
    "from torch.utils.data import Dataset, DataLoader\n",
    "from torchvision.transforms import Compose, Normalize, Resize, CenterCrop, ToTensor\n",
    "import gc\n",
    "from numba import cuda\n",
    "\n",
    "id2label = {\n",
    "    0: \"Cassava Bacterial Blight (CBB)\",\n",
    "    1: \"Cassava Brown Streak Disease (CBSD)\",\n",
    "    2: \"Cassava Green Mottle (CGM)\",\n",
    "    3: \"Cassava Mosaic Disease (CMD)\",\n",
    "    4: \"Healthy\",\n",
    "}\n",
    "label2id = {\n",
    "    \"Cassava Bacterial Blight (CBB)\": 0,\n",
    "    \"Cassava Brown Streak Disease (CBSD)\": 1,\n",
    "    \"Cassava Green Mottle (CGM)\": 2,\n",
    "    \"Cassava Mosaic Disease (CMD)\": 3,\n",
    "    \"Healthy\": 4,\n",
    "}\n",
    "\n",
    "folder = Path(\"./image\")"
   ]
  },
  {
   "cell_type": "markdown",
   "metadata": {},
   "source": [
    "# ViT full"
   ]
  },
  {
   "cell_type": "code",
   "execution_count": 2,
   "metadata": {
    "execution": {
     "iopub.execute_input": "2024-10-28T07:16:18.120980Z",
     "iopub.status.busy": "2024-10-28T07:16:18.120407Z",
     "iopub.status.idle": "2024-10-28T07:16:22.000460Z",
     "shell.execute_reply": "2024-10-28T07:16:21.999458Z",
     "shell.execute_reply.started": "2024-10-28T07:16:18.120945Z"
    },
    "trusted": true
   },
   "outputs": [],
   "source": [
    "model_path = \"pufanyi/SC4000_vit_base_full_13500\"\n",
    "\n",
    "model = AutoModelForImageClassification.from_pretrained(\n",
    "    model_path,\n",
    "    id2label=id2label,\n",
    "    label2id=label2id,\n",
    "    ignore_mismatched_sizes=True,\n",
    ")\n",
    "image_processor = AutoImageProcessor.from_pretrained(model_path)"
   ]
  },
  {
   "cell_type": "code",
   "execution_count": 3,
   "metadata": {
    "execution": {
     "iopub.execute_input": "2024-10-28T07:16:22.002516Z",
     "iopub.status.busy": "2024-10-28T07:16:22.001865Z",
     "iopub.status.idle": "2024-10-28T07:16:22.011321Z",
     "shell.execute_reply": "2024-10-28T07:16:22.010296Z",
     "shell.execute_reply.started": "2024-10-28T07:16:22.002469Z"
    },
    "trusted": true
   },
   "outputs": [],
   "source": [
    "class CassavaDatasetViT(Dataset):\n",
    "    def __init__(self, folder, image_processor):\n",
    "        self.folder = folder\n",
    "        self.image_processor = image_processor\n",
    "        self.image_paths = list(folder.glob(\"*\"))\n",
    "        self.image_mean, self.image_std = (\n",
    "            self.image_processor.image_mean,\n",
    "            self.image_processor.image_std,\n",
    "        )\n",
    "        size = self.image_processor.size[\"height\"]\n",
    "        normalize = Normalize(mean=self.image_mean, std=self.image_std)\n",
    "        self.test_transforms = Compose(\n",
    "            [\n",
    "                Resize(size),\n",
    "                CenterCrop(size),\n",
    "                ToTensor(),\n",
    "                normalize,\n",
    "            ]\n",
    "        )\n",
    "\n",
    "    def __len__(self):\n",
    "        return len(self.image_paths)\n",
    "\n",
    "    def __getitem__(self, idx):\n",
    "        image_path = self.image_paths[idx]\n",
    "        with PIL.Image.open(image_path) as image:\n",
    "            inputs = self.test_transforms(image.convert(\"RGB\"))\n",
    "        return inputs, image_path.name"
   ]
  },
  {
   "cell_type": "code",
   "execution_count": 4,
   "metadata": {
    "execution": {
     "iopub.execute_input": "2024-10-28T07:16:22.015153Z",
     "iopub.status.busy": "2024-10-28T07:16:22.014787Z",
     "iopub.status.idle": "2024-10-28T07:16:31.776473Z",
     "shell.execute_reply": "2024-10-28T07:16:31.775669Z",
     "shell.execute_reply.started": "2024-10-28T07:16:22.015110Z"
    },
    "trusted": true
   },
   "outputs": [],
   "source": [
    "vit_outputs = []\n",
    "\n",
    "dataset = CassavaDatasetViT(folder, image_processor)\n",
    "dataloader = DataLoader(dataset, batch_size=16)\n",
    "\n",
    "device = torch.device(\"cuda\" if torch.cuda.is_available() else \"cpu\")\n",
    "model.to(device)\n",
    "model.eval()\n",
    "\n",
    "with torch.no_grad():\n",
    "    for batch, image_names in dataloader:\n",
    "        outputs = model(batch.to(device))\n",
    "        probabilities = F.softmax(outputs.logits, dim=-1).cpu().numpy()\n",
    "\n",
    "        vit_outputs.extend(\n",
    "            {\"image_id\": image_name, \"output\": output}\n",
    "            for image_name, output in zip(image_names, probabilities)\n",
    "        )"
   ]
  },
  {
   "cell_type": "code",
   "execution_count": 5,
   "metadata": {
    "execution": {
     "iopub.execute_input": "2024-10-28T07:16:31.778549Z",
     "iopub.status.busy": "2024-10-28T07:16:31.778010Z",
     "iopub.status.idle": "2024-10-28T07:16:31.783569Z",
     "shell.execute_reply": "2024-10-28T07:16:31.782304Z",
     "shell.execute_reply.started": "2024-10-28T07:16:31.778503Z"
    },
    "trusted": true
   },
   "outputs": [],
   "source": [
    "vit_outputs = {x[\"image_id\"]: x[\"output\"] for x in vit_outputs}"
   ]
  },
  {
   "cell_type": "code",
   "execution_count": 6,
   "metadata": {
    "execution": {
     "iopub.execute_input": "2024-10-28T07:16:31.785119Z",
     "iopub.status.busy": "2024-10-28T07:16:31.784844Z",
     "iopub.status.idle": "2024-10-28T07:16:33.210438Z",
     "shell.execute_reply": "2024-10-28T07:16:33.209442Z",
     "shell.execute_reply.started": "2024-10-28T07:16:31.785087Z"
    },
    "trusted": true
   },
   "outputs": [],
   "source": [
    "model.cpu()\n",
    "del model\n",
    "gc.collect()\n",
    "torch.cuda.empty_cache()"
   ]
  },
  {
   "cell_type": "markdown",
   "metadata": {},
   "source": [
    "# ConvNeXt-V2 Base"
   ]
  },
  {
   "cell_type": "code",
   "execution_count": 7,
   "metadata": {
    "execution": {
     "iopub.execute_input": "2024-10-28T07:16:33.212649Z",
     "iopub.status.busy": "2024-10-28T07:16:33.211891Z",
     "iopub.status.idle": "2024-10-28T07:16:34.479867Z",
     "shell.execute_reply": "2024-10-28T07:16:34.479035Z",
     "shell.execute_reply.started": "2024-10-28T07:16:33.212603Z"
    },
    "trusted": true
   },
   "outputs": [],
   "source": [
    "model_path = \"pufanyi/SC4000_ConvNeXtV2_base_full_9000\"\n",
    "model = AutoModelForImageClassification.from_pretrained(\n",
    "    model_path,\n",
    "    id2label=id2label,\n",
    "    label2id=label2id,\n",
    "    ignore_mismatched_sizes=True,\n",
    ")\n",
    "image_processor = AutoImageProcessor.from_pretrained(model_path)"
   ]
  },
  {
   "cell_type": "code",
   "execution_count": 8,
   "metadata": {
    "execution": {
     "iopub.execute_input": "2024-10-28T07:16:34.481284Z",
     "iopub.status.busy": "2024-10-28T07:16:34.480982Z",
     "iopub.status.idle": "2024-10-28T07:16:34.489361Z",
     "shell.execute_reply": "2024-10-28T07:16:34.488346Z",
     "shell.execute_reply.started": "2024-10-28T07:16:34.481251Z"
    },
    "trusted": true
   },
   "outputs": [],
   "source": [
    "class CassavaDatasetConvNeXtV2(Dataset):\n",
    "    def __init__(self, folder, image_processor):\n",
    "        self.folder = folder\n",
    "        self.image_processor = image_processor\n",
    "        self.image_paths = list(folder.glob(\"*\"))\n",
    "        self.image_mean, self.image_std = (\n",
    "            self.image_processor.image_mean,\n",
    "            self.image_processor.image_std,\n",
    "        )\n",
    "        size = self.image_processor.size[\"shortest_edge\"]\n",
    "        normalize = Normalize(mean=self.image_mean, std=self.image_std)\n",
    "        self.test_transforms = Compose(\n",
    "            [\n",
    "                Resize(size),\n",
    "                CenterCrop(size),\n",
    "                ToTensor(),\n",
    "                normalize,\n",
    "            ]\n",
    "        )\n",
    "\n",
    "    def __len__(self):\n",
    "        return len(self.image_paths)\n",
    "\n",
    "    def __getitem__(self, idx):\n",
    "        image_path = self.image_paths[idx]\n",
    "        with PIL.Image.open(image_path) as image:\n",
    "            inputs = self.test_transforms(image.convert(\"RGB\"))\n",
    "        return inputs, image_path.name"
   ]
  },
  {
   "cell_type": "code",
   "execution_count": 9,
   "metadata": {
    "execution": {
     "iopub.execute_input": "2024-10-28T07:16:34.490836Z",
     "iopub.status.busy": "2024-10-28T07:16:34.490527Z",
     "iopub.status.idle": "2024-10-28T07:16:37.245968Z",
     "shell.execute_reply": "2024-10-28T07:16:37.245043Z",
     "shell.execute_reply.started": "2024-10-28T07:16:34.490804Z"
    },
    "trusted": true
   },
   "outputs": [],
   "source": [
    "convnext_outputs = []\n",
    "\n",
    "dataset = CassavaDatasetConvNeXtV2(folder, image_processor)\n",
    "dataloader = DataLoader(dataset, batch_size=16)\n",
    "\n",
    "device = torch.device(\"cuda\" if torch.cuda.is_available() else \"cpu\")\n",
    "model.to(device)\n",
    "model.eval()\n",
    "\n",
    "with torch.no_grad():\n",
    "    for batch, image_names in dataloader:\n",
    "        outputs = model(batch.to(device))\n",
    "        # predictions = outputs.logits.argmax(dim=-1).cpu().numpy()\n",
    "        probabilities = F.softmax(outputs.logits, dim=-1).cpu().numpy()\n",
    "\n",
    "        convnext_outputs.extend(\n",
    "            {\"image_id\": image_name, \"output\": output}\n",
    "            for image_name, output in zip(image_names, probabilities)\n",
    "        )"
   ]
  },
  {
   "cell_type": "code",
   "execution_count": 10,
   "metadata": {
    "execution": {
     "iopub.execute_input": "2024-10-28T07:16:37.250250Z",
     "iopub.status.busy": "2024-10-28T07:16:37.249948Z",
     "iopub.status.idle": "2024-10-28T07:16:37.256106Z",
     "shell.execute_reply": "2024-10-28T07:16:37.254734Z",
     "shell.execute_reply.started": "2024-10-28T07:16:37.250219Z"
    },
    "trusted": true
   },
   "outputs": [],
   "source": [
    "convnext_outputs = {x[\"image_id\"]: x[\"output\"] for x in convnext_outputs}"
   ]
  },
  {
   "cell_type": "code",
   "execution_count": 11,
   "metadata": {
    "execution": {
     "iopub.execute_input": "2024-10-28T07:16:37.257748Z",
     "iopub.status.busy": "2024-10-28T07:16:37.257332Z",
     "iopub.status.idle": "2024-10-28T07:16:37.759566Z",
     "shell.execute_reply": "2024-10-28T07:16:37.758751Z",
     "shell.execute_reply.started": "2024-10-28T07:16:37.257679Z"
    },
    "trusted": true
   },
   "outputs": [],
   "source": [
    "model.cpu()\n",
    "del model\n",
    "gc.collect()\n",
    "torch.cuda.empty_cache()"
   ]
  },
  {
   "cell_type": "markdown",
   "metadata": {},
   "source": [
    "# CropNet (MobileNetV3)"
   ]
  },
  {
   "cell_type": "code",
   "execution_count": 12,
   "metadata": {
    "execution": {
     "iopub.execute_input": "2024-10-28T07:17:17.192573Z",
     "iopub.status.busy": "2024-10-28T07:17:17.191502Z",
     "iopub.status.idle": "2024-10-28T07:17:27.682661Z",
     "shell.execute_reply": "2024-10-28T07:17:27.681648Z",
     "shell.execute_reply.started": "2024-10-28T07:17:17.192517Z"
    },
    "trusted": true
   },
   "outputs": [
    {
     "name": "stderr",
     "output_type": "stream",
     "text": [
      "Fetching 7 files: 100%|██████████| 7/7 [00:00<00:00, 74898.29it/s]\n",
      "WARNING: All log messages before absl::InitializeLog() is called are written to STDERR\n",
      "I0000 00:00:1730255749.219469   27938 cuda_executor.cc:1015] successful NUMA node read from SysFS had negative value (-1), but there must be at least one NUMA node, so returning NUMA node zero. See more at https://github.com/torvalds/linux/blob/v6.0/Documentation/ABI/testing/sysfs-bus-pci#L344-L355\n",
      "2024-10-30 02:35:49.224484: W tensorflow/core/common_runtime/gpu/gpu_device.cc:2343] Cannot dlopen some GPU libraries. Please make sure the missing libraries mentioned above are installed properly if you would like to use GPU. Follow the guide at https://www.tensorflow.org/install/gpu for how to download and setup the required libraries for your platform.\n",
      "Skipping registering GPU devices...\n"
     ]
    }
   ],
   "source": [
    "from huggingface_hub import from_pretrained_keras\n",
    "import tf_keras as keras\n",
    "from pathlib import Path\n",
    "import tensorflow as tf\n",
    "from PIL import Image\n",
    "\n",
    "model = from_pretrained_keras(\"pufanyi/SC4000-MobileNetV3\")\n",
    "\n",
    "image_size = 224\n",
    "resize_scale = 1.5\n",
    "image_resize_shape = int(resize_scale * image_size)\n",
    "batch_size = 32"
   ]
  },
  {
   "cell_type": "code",
   "execution_count": 13,
   "metadata": {
    "execution": {
     "iopub.execute_input": "2024-10-28T07:17:48.333645Z",
     "iopub.status.busy": "2024-10-28T07:17:48.332668Z",
     "iopub.status.idle": "2024-10-28T07:17:48.340283Z",
     "shell.execute_reply": "2024-10-28T07:17:48.339366Z",
     "shell.execute_reply.started": "2024-10-28T07:17:48.333603Z"
    },
    "trusted": true
   },
   "outputs": [],
   "source": [
    "val_transforms = [\n",
    "    lambda img: tf.image.resize(img, (image_resize_shape, image_resize_shape)),\n",
    "    lambda img: tf.image.resize_with_crop_or_pad(\n",
    "        img, target_height=image_size, target_width=image_size\n",
    "    ),\n",
    "    lambda img: img / 255.0,\n",
    "]\n",
    "\n",
    "\n",
    "def val_image_transforms(image):\n",
    "    for fn in val_transforms:\n",
    "        image = fn(image)\n",
    "    return image\n",
    "\n",
    "\n",
    "def open_image(path):\n",
    "    with Image.open(path) as image:\n",
    "        image = keras.utils.img_to_array(image)\n",
    "    return val_image_transforms(image)"
   ]
  },
  {
   "cell_type": "code",
   "execution_count": 14,
   "metadata": {
    "execution": {
     "iopub.execute_input": "2024-10-28T07:19:00.901537Z",
     "iopub.status.busy": "2024-10-28T07:19:00.901119Z",
     "iopub.status.idle": "2024-10-28T07:19:00.933474Z",
     "shell.execute_reply": "2024-10-28T07:19:00.932692Z",
     "shell.execute_reply.started": "2024-10-28T07:19:00.901499Z"
    },
    "trusted": true
   },
   "outputs": [],
   "source": [
    "folder = Path(\"./image\")\n",
    "images = [(path.name, open_image(path)) for path in folder.glob(\"*\")]\n",
    "ids, inputs = map(list, zip(*images))\n",
    "\n",
    "input_data = (\n",
    "    tf.data.experimental.from_list(inputs)\n",
    "    .batch(batch_size)\n",
    "    .prefetch(tf.data.experimental.AUTOTUNE)\n",
    ")"
   ]
  },
  {
   "cell_type": "code",
   "execution_count": 15,
   "metadata": {
    "execution": {
     "iopub.execute_input": "2024-10-28T07:19:01.793548Z",
     "iopub.status.busy": "2024-10-28T07:19:01.793158Z",
     "iopub.status.idle": "2024-10-28T07:19:02.303355Z",
     "shell.execute_reply": "2024-10-28T07:19:02.302443Z",
     "shell.execute_reply.started": "2024-10-28T07:19:01.793510Z"
    },
    "trusted": true
   },
   "outputs": [
    {
     "name": "stdout",
     "output_type": "stream",
     "text": [
      "34/34 [==============================] - 5s 108ms/step\n"
     ]
    }
   ],
   "source": [
    "outputs = model.predict(input_data)[:, :-1]"
   ]
  },
  {
   "cell_type": "code",
   "execution_count": 16,
   "metadata": {
    "execution": {
     "iopub.execute_input": "2024-10-28T07:19:04.311200Z",
     "iopub.status.busy": "2024-10-28T07:19:04.310790Z",
     "iopub.status.idle": "2024-10-28T07:19:04.315664Z",
     "shell.execute_reply": "2024-10-28T07:19:04.314758Z",
     "shell.execute_reply.started": "2024-10-28T07:19:04.311163Z"
    },
    "trusted": true
   },
   "outputs": [],
   "source": [
    "cropnet_outputs = {id: output for id, output in zip(ids, outputs)}"
   ]
  },
  {
   "cell_type": "code",
   "execution_count": 17,
   "metadata": {
    "execution": {
     "iopub.execute_input": "2024-10-28T07:16:53.243241Z",
     "iopub.status.busy": "2024-10-28T07:16:53.242209Z",
     "iopub.status.idle": "2024-10-28T07:16:53.409759Z",
     "shell.execute_reply": "2024-10-28T07:16:53.408573Z",
     "shell.execute_reply.started": "2024-10-28T07:16:53.243193Z"
    },
    "trusted": true
   },
   "outputs": [],
   "source": [
    "device = cuda.get_current_device()\n",
    "device.reset()"
   ]
  },
  {
   "cell_type": "markdown",
   "metadata": {},
   "source": [
    "# Merging"
   ]
  },
  {
   "cell_type": "code",
   "execution_count": 18,
   "metadata": {},
   "outputs": [],
   "source": [
    "import json\n",
    "vit_outputs_json = {}\n",
    "convnext_outputs_json = {}\n",
    "cropnet_outputs_json = {}\n",
    "for image_id in vit_outputs.keys():\n",
    "    vit_outputs_json[image_id] = vit_outputs[image_id].tolist()\n",
    "    convnext_outputs_json[image_id] = convnext_outputs[image_id].tolist()\n",
    "    cropnet_outputs_json[image_id] = cropnet_outputs[image_id].tolist()\n",
    "\n",
    "with open(\"result/vit_outputs.json\", \"w\") as f:\n",
    "    json.dump(vit_outputs_json, f)\n",
    "\n",
    "with open(\"result/convnext_outputs.json\", \"w\") as f:\n",
    "    json.dump(convnext_outputs_json, f)\n",
    "\n",
    "with open(\"result/cropnet_outputs.json\", \"w\") as f:\n",
    "    json.dump(cropnet_outputs_json, f)"
   ]
  },
  {
   "cell_type": "code",
   "execution_count": 19,
   "metadata": {
    "execution": {
     "iopub.execute_input": "2024-10-28T07:16:53.411629Z",
     "iopub.status.busy": "2024-10-28T07:16:53.411223Z",
     "iopub.status.idle": "2024-10-28T07:16:53.417325Z",
     "shell.execute_reply": "2024-10-28T07:16:53.416466Z",
     "shell.execute_reply.started": "2024-10-28T07:16:53.411587Z"
    },
    "trusted": true
   },
   "outputs": [],
   "source": [
    "final_answers = []\n",
    "for image_id in vit_outputs.keys():\n",
    "    vit_output = vit_outputs[image_id]\n",
    "    convnext_output = convnext_outputs[image_id]\n",
    "    cropnet_output = cropnet_outputs[image_id]\n",
    "    final_output = (vit_output + convnext_output + cropnet_output) / 3\n",
    "    final_answers.append({\"image_id\": image_id, \"label\": np.argmax(final_output)})"
   ]
  },
  {
   "cell_type": "code",
   "execution_count": 20,
   "metadata": {
    "execution": {
     "iopub.execute_input": "2024-10-28T07:16:53.418859Z",
     "iopub.status.busy": "2024-10-28T07:16:53.418511Z",
     "iopub.status.idle": "2024-10-28T07:16:53.430217Z",
     "shell.execute_reply": "2024-10-28T07:16:53.429149Z",
     "shell.execute_reply.started": "2024-10-28T07:16:53.418822Z"
    },
    "trusted": true
   },
   "outputs": [],
   "source": [
    "df = pd.DataFrame(final_answers)"
   ]
  },
  {
   "cell_type": "code",
   "execution_count": 21,
   "metadata": {
    "execution": {
     "iopub.execute_input": "2024-10-28T07:16:53.431607Z",
     "iopub.status.busy": "2024-10-28T07:16:53.431321Z",
     "iopub.status.idle": "2024-10-28T07:16:53.451098Z",
     "shell.execute_reply": "2024-10-28T07:16:53.450065Z",
     "shell.execute_reply.started": "2024-10-28T07:16:53.431576Z"
    },
    "trusted": true
   },
   "outputs": [
    {
     "data": {
      "text/html": [
       "<div>\n",
       "<style scoped>\n",
       "    .dataframe tbody tr th:only-of-type {\n",
       "        vertical-align: middle;\n",
       "    }\n",
       "\n",
       "    .dataframe tbody tr th {\n",
       "        vertical-align: top;\n",
       "    }\n",
       "\n",
       "    .dataframe thead th {\n",
       "        text-align: right;\n",
       "    }\n",
       "</style>\n",
       "<table border=\"1\" class=\"dataframe\">\n",
       "  <thead>\n",
       "    <tr style=\"text-align: right;\">\n",
       "      <th></th>\n",
       "      <th>image_id</th>\n",
       "      <th>label</th>\n",
       "    </tr>\n",
       "  </thead>\n",
       "  <tbody>\n",
       "    <tr>\n",
       "      <th>0</th>\n",
       "      <td>1335111806.jpg</td>\n",
       "      <td>3</td>\n",
       "    </tr>\n",
       "    <tr>\n",
       "      <th>1</th>\n",
       "      <td>3551690103.jpg</td>\n",
       "      <td>1</td>\n",
       "    </tr>\n",
       "    <tr>\n",
       "      <th>2</th>\n",
       "      <td>3080364100.jpg</td>\n",
       "      <td>3</td>\n",
       "    </tr>\n",
       "    <tr>\n",
       "      <th>3</th>\n",
       "      <td>674941646.jpg</td>\n",
       "      <td>2</td>\n",
       "    </tr>\n",
       "    <tr>\n",
       "      <th>4</th>\n",
       "      <td>2716766472.jpg</td>\n",
       "      <td>3</td>\n",
       "    </tr>\n",
       "  </tbody>\n",
       "</table>\n",
       "</div>"
      ],
      "text/plain": [
       "         image_id  label\n",
       "0  1335111806.jpg      3\n",
       "1  3551690103.jpg      1\n",
       "2  3080364100.jpg      3\n",
       "3   674941646.jpg      2\n",
       "4  2716766472.jpg      3"
      ]
     },
     "execution_count": 21,
     "metadata": {},
     "output_type": "execute_result"
    }
   ],
   "source": [
    "df.head()"
   ]
  },
  {
   "cell_type": "code",
   "execution_count": 22,
   "metadata": {
    "execution": {
     "iopub.execute_input": "2024-10-28T07:16:53.452627Z",
     "iopub.status.busy": "2024-10-28T07:16:53.452346Z",
     "iopub.status.idle": "2024-10-28T07:16:53.459860Z",
     "shell.execute_reply": "2024-10-28T07:16:53.458837Z",
     "shell.execute_reply.started": "2024-10-28T07:16:53.452596Z"
    },
    "trusted": true
   },
   "outputs": [],
   "source": [
    "df.to_csv(\"submission.csv\", index=False)"
   ]
  },
  {
   "cell_type": "code",
   "execution_count": null,
   "metadata": {},
   "outputs": [],
   "source": []
  }
 ],
 "metadata": {
  "kaggle": {
   "accelerator": "gpu",
   "dataSources": [
    {
     "databundleVersionId": 1718836,
     "sourceId": 13836,
     "sourceType": "competition"
    },
    {
     "datasetId": 5938625,
     "sourceId": 9709258,
     "sourceType": "datasetVersion"
    },
    {
     "datasetId": 5940211,
     "sourceId": 9711322,
     "sourceType": "datasetVersion"
    },
    {
     "datasetId": 5959843,
     "sourceId": 9737461,
     "sourceType": "datasetVersion"
    }
   ],
   "dockerImageVersionId": 30786,
   "isGpuEnabled": true,
   "isInternetEnabled": false,
   "language": "python",
   "sourceType": "notebook"
  },
  "kernelspec": {
   "display_name": "SC4000",
   "language": "python",
   "name": "python3"
  },
  "language_info": {
   "codemirror_mode": {
    "name": "ipython",
    "version": 3
   },
   "file_extension": ".py",
   "mimetype": "text/x-python",
   "name": "python",
   "nbconvert_exporter": "python",
   "pygments_lexer": "ipython3",
   "version": "3.10.15"
  }
 },
 "nbformat": 4,
 "nbformat_minor": 4
}
