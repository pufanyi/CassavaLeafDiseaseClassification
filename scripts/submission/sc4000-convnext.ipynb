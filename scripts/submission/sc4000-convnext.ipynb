{
 "cells": [
  {
   "cell_type": "markdown",
   "id": "2dc03078",
   "metadata": {
    "papermill": {
     "duration": 0.003982,
     "end_time": "2024-10-22T17:27:18.299872",
     "exception": false,
     "start_time": "2024-10-22T17:27:18.295890",
     "status": "completed"
    },
    "tags": []
   },
   "source": [
    "# SC4000_ConvNeXtV2_base_balanced_12500"
   ]
  },
  {
   "cell_type": "code",
   "execution_count": 1,
   "id": "f32f6555",
   "metadata": {
    "execution": {
     "iopub.execute_input": "2024-10-22T17:27:18.308376Z",
     "iopub.status.busy": "2024-10-22T17:27:18.307974Z",
     "iopub.status.idle": "2024-10-22T17:27:36.680396Z",
     "shell.execute_reply": "2024-10-22T17:27:36.679599Z"
    },
    "papermill": {
     "duration": 18.379161,
     "end_time": "2024-10-22T17:27:36.682695",
     "exception": false,
     "start_time": "2024-10-22T17:27:18.303534",
     "status": "completed"
    },
    "tags": []
   },
   "outputs": [],
   "source": [
    "from transformers import AutoImageProcessor, AutoModelForImageClassification"
   ]
  },
  {
   "cell_type": "code",
   "execution_count": 2,
   "id": "a27fe2f4",
   "metadata": {
    "execution": {
     "iopub.execute_input": "2024-10-22T17:27:36.691275Z",
     "iopub.status.busy": "2024-10-22T17:27:36.690734Z",
     "iopub.status.idle": "2024-10-22T17:27:36.695870Z",
     "shell.execute_reply": "2024-10-22T17:27:36.694926Z"
    },
    "papermill": {
     "duration": 0.011404,
     "end_time": "2024-10-22T17:27:36.697822",
     "exception": false,
     "start_time": "2024-10-22T17:27:36.686418",
     "status": "completed"
    },
    "tags": []
   },
   "outputs": [],
   "source": [
    "id2label = {0: 'Cassava Bacterial Blight (CBB)', 1: 'Cassava Brown Streak Disease (CBSD)', 2: 'Cassava Green Mottle (CGM)', 3: 'Cassava Mosaic Disease (CMD)', 4: 'Healthy'}\n",
    "label2id = {'Cassava Bacterial Blight (CBB)': 0, 'Cassava Brown Streak Disease (CBSD)': 1, 'Cassava Green Mottle (CGM)': 2, 'Cassava Mosaic Disease (CMD)': 3, 'Healthy': 4}"
   ]
  },
  {
   "cell_type": "code",
   "execution_count": 3,
   "id": "8cb26aa0",
   "metadata": {
    "execution": {
     "iopub.execute_input": "2024-10-22T17:27:36.705698Z",
     "iopub.status.busy": "2024-10-22T17:27:36.705414Z",
     "iopub.status.idle": "2024-10-22T17:27:36.709196Z",
     "shell.execute_reply": "2024-10-22T17:27:36.708376Z"
    },
    "papermill": {
     "duration": 0.009766,
     "end_time": "2024-10-22T17:27:36.710970",
     "exception": false,
     "start_time": "2024-10-22T17:27:36.701204",
     "status": "completed"
    },
    "tags": []
   },
   "outputs": [],
   "source": [
    "model_path = \"/kaggle/input/convnext-9000/models/convnext\""
   ]
  },
  {
   "cell_type": "code",
   "execution_count": 4,
   "id": "c788da9a",
   "metadata": {
    "execution": {
     "iopub.execute_input": "2024-10-22T17:27:36.718927Z",
     "iopub.status.busy": "2024-10-22T17:27:36.718454Z",
     "iopub.status.idle": "2024-10-22T17:27:38.435571Z",
     "shell.execute_reply": "2024-10-22T17:27:38.434686Z"
    },
    "papermill": {
     "duration": 1.723461,
     "end_time": "2024-10-22T17:27:38.437829",
     "exception": false,
     "start_time": "2024-10-22T17:27:36.714368",
     "status": "completed"
    },
    "tags": []
   },
   "outputs": [],
   "source": [
    "model = AutoModelForImageClassification.from_pretrained(\n",
    "    model_path,\n",
    "    id2label=id2label,\n",
    "    label2id=label2id,\n",
    "    ignore_mismatched_sizes=True,\n",
    ")\n",
    "image_processor = AutoImageProcessor.from_pretrained(model_path)"
   ]
  },
  {
   "cell_type": "code",
   "execution_count": 5,
   "id": "498294da",
   "metadata": {
    "execution": {
     "iopub.execute_input": "2024-10-22T17:27:38.446746Z",
     "iopub.status.busy": "2024-10-22T17:27:38.446034Z",
     "iopub.status.idle": "2024-10-22T17:27:38.450325Z",
     "shell.execute_reply": "2024-10-22T17:27:38.449524Z"
    },
    "papermill": {
     "duration": 0.010588,
     "end_time": "2024-10-22T17:27:38.452187",
     "exception": false,
     "start_time": "2024-10-22T17:27:38.441599",
     "status": "completed"
    },
    "tags": []
   },
   "outputs": [],
   "source": [
    "from pathlib import Path\n",
    "\n",
    "folder = Path(\"/kaggle/input/cassava-leaf-disease-classification/test_images\")"
   ]
  },
  {
   "cell_type": "code",
   "execution_count": 6,
   "id": "431e6f20",
   "metadata": {
    "execution": {
     "iopub.execute_input": "2024-10-22T17:27:38.460535Z",
     "iopub.status.busy": "2024-10-22T17:27:38.459904Z",
     "iopub.status.idle": "2024-10-22T17:27:42.451263Z",
     "shell.execute_reply": "2024-10-22T17:27:42.450401Z"
    },
    "papermill": {
     "duration": 3.998171,
     "end_time": "2024-10-22T17:27:42.453796",
     "exception": false,
     "start_time": "2024-10-22T17:27:38.455625",
     "status": "completed"
    },
    "tags": []
   },
   "outputs": [
    {
     "name": "stdout",
     "output_type": "stream",
     "text": [
      "/kaggle/input/cassava-leaf-disease-classification/test_images/2216849948.jpg\n"
     ]
    }
   ],
   "source": [
    "import PIL\n",
    "\n",
    "submissions = []\n",
    "\n",
    "for image_path in folder.glob(\"*\"):\n",
    "    print(image_path.absolute())\n",
    "    with PIL.Image.open(image_path) as image:\n",
    "        inputs = image_processor(image, return_tensors=\"pt\")\n",
    "        outputs = model(**inputs)\n",
    "        prediction = outputs.logits.argmax(dim=-1).item()\n",
    "        submissions.append({\"image_id\": image_path.name, \"label\": prediction})"
   ]
  },
  {
   "cell_type": "code",
   "execution_count": 7,
   "id": "bec5275b",
   "metadata": {
    "execution": {
     "iopub.execute_input": "2024-10-22T17:27:42.462791Z",
     "iopub.status.busy": "2024-10-22T17:27:42.462465Z",
     "iopub.status.idle": "2024-10-22T17:27:42.468360Z",
     "shell.execute_reply": "2024-10-22T17:27:42.467440Z"
    },
    "papermill": {
     "duration": 0.012533,
     "end_time": "2024-10-22T17:27:42.470291",
     "exception": false,
     "start_time": "2024-10-22T17:27:42.457758",
     "status": "completed"
    },
    "tags": []
   },
   "outputs": [],
   "source": [
    "import pandas as pd\n",
    "\n",
    "df = pd.DataFrame(submissions)"
   ]
  },
  {
   "cell_type": "code",
   "execution_count": 8,
   "id": "bd36d4b5",
   "metadata": {
    "execution": {
     "iopub.execute_input": "2024-10-22T17:27:42.478587Z",
     "iopub.status.busy": "2024-10-22T17:27:42.478304Z",
     "iopub.status.idle": "2024-10-22T17:27:42.494681Z",
     "shell.execute_reply": "2024-10-22T17:27:42.493777Z"
    },
    "papermill": {
     "duration": 0.022792,
     "end_time": "2024-10-22T17:27:42.496732",
     "exception": false,
     "start_time": "2024-10-22T17:27:42.473940",
     "status": "completed"
    },
    "tags": []
   },
   "outputs": [
    {
     "data": {
      "text/html": [
       "<div>\n",
       "<style scoped>\n",
       "    .dataframe tbody tr th:only-of-type {\n",
       "        vertical-align: middle;\n",
       "    }\n",
       "\n",
       "    .dataframe tbody tr th {\n",
       "        vertical-align: top;\n",
       "    }\n",
       "\n",
       "    .dataframe thead th {\n",
       "        text-align: right;\n",
       "    }\n",
       "</style>\n",
       "<table border=\"1\" class=\"dataframe\">\n",
       "  <thead>\n",
       "    <tr style=\"text-align: right;\">\n",
       "      <th></th>\n",
       "      <th>image_id</th>\n",
       "      <th>label</th>\n",
       "    </tr>\n",
       "  </thead>\n",
       "  <tbody>\n",
       "    <tr>\n",
       "      <th>0</th>\n",
       "      <td>2216849948.jpg</td>\n",
       "      <td>4</td>\n",
       "    </tr>\n",
       "  </tbody>\n",
       "</table>\n",
       "</div>"
      ],
      "text/plain": [
       "         image_id  label\n",
       "0  2216849948.jpg      4"
      ]
     },
     "execution_count": 8,
     "metadata": {},
     "output_type": "execute_result"
    }
   ],
   "source": [
    "df.head()"
   ]
  },
  {
   "cell_type": "code",
   "execution_count": 9,
   "id": "4a88de49",
   "metadata": {
    "execution": {
     "iopub.execute_input": "2024-10-22T17:27:42.506671Z",
     "iopub.status.busy": "2024-10-22T17:27:42.506381Z",
     "iopub.status.idle": "2024-10-22T17:27:42.514923Z",
     "shell.execute_reply": "2024-10-22T17:27:42.513795Z"
    },
    "papermill": {
     "duration": 0.015729,
     "end_time": "2024-10-22T17:27:42.516990",
     "exception": false,
     "start_time": "2024-10-22T17:27:42.501261",
     "status": "completed"
    },
    "tags": []
   },
   "outputs": [],
   "source": [
    "df.to_csv(\"submission.csv\", index=False)"
   ]
  },
  {
   "cell_type": "code",
   "execution_count": null,
   "id": "039f2f94",
   "metadata": {
    "papermill": {
     "duration": 0.004159,
     "end_time": "2024-10-22T17:27:42.525546",
     "exception": false,
     "start_time": "2024-10-22T17:27:42.521387",
     "status": "completed"
    },
    "tags": []
   },
   "outputs": [],
   "source": []
  }
 ],
 "metadata": {
  "kaggle": {
   "accelerator": "none",
   "dataSources": [
    {
     "databundleVersionId": 1718836,
     "sourceId": 13836,
     "sourceType": "competition"
    },
    {
     "datasetId": 5919501,
     "sourceId": 9695199,
     "sourceType": "datasetVersion"
    }
   ],
   "dockerImageVersionId": 30761,
   "isGpuEnabled": false,
   "isInternetEnabled": false,
   "language": "python",
   "sourceType": "notebook"
  },
  "kernelspec": {
   "display_name": "Python 3",
   "language": "python",
   "name": "python3"
  },
  "language_info": {
   "codemirror_mode": {
    "name": "ipython",
    "version": 3
   },
   "file_extension": ".py",
   "mimetype": "text/x-python",
   "name": "python",
   "nbconvert_exporter": "python",
   "pygments_lexer": "ipython3",
   "version": "3.10.14"
  },
  "papermill": {
   "default_parameters": {},
   "duration": 29.718064,
   "end_time": "2024-10-22T17:27:45.299287",
   "environment_variables": {},
   "exception": null,
   "input_path": "__notebook__.ipynb",
   "output_path": "__notebook__.ipynb",
   "parameters": {},
   "start_time": "2024-10-22T17:27:15.581223",
   "version": "2.6.0"
  }
 },
 "nbformat": 4,
 "nbformat_minor": 5
}
