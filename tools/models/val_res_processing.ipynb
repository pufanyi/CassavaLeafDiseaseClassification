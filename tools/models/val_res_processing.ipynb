{
 "cells": [
  {
   "cell_type": "code",
   "execution_count": 239,
   "metadata": {},
   "outputs": [],
   "source": [
    "from sklearn import svm\n",
    "from datasets import load_dataset\n",
    "from scipy.special import softmax"
   ]
  },
  {
   "cell_type": "code",
   "execution_count": 240,
   "metadata": {},
   "outputs": [],
   "source": [
    "models = [\"convnextv2\", \"convnextv2_balanced\", \"mobilenetv3\", \"vit\"]"
   ]
  },
  {
   "cell_type": "code",
   "execution_count": 241,
   "metadata": {},
   "outputs": [],
   "source": [
    "data = load_dataset(\"pufanyi/SC4000_eval_results\", \"val\")\n",
    "# data = load_dataset(\"pufanyi/SC4000_eval_results\", \"full\")"
   ]
  },
  {
   "cell_type": "code",
   "execution_count": 242,
   "metadata": {},
   "outputs": [],
   "source": [
    "train_df, val_df = data[\"train\"].to_pandas(), data[\"validation\"].to_pandas()"
   ]
  },
  {
   "cell_type": "code",
   "execution_count": 243,
   "metadata": {},
   "outputs": [
    {
     "data": {
      "text/html": [
       "<div>\n",
       "<style scoped>\n",
       "    .dataframe tbody tr th:only-of-type {\n",
       "        vertical-align: middle;\n",
       "    }\n",
       "\n",
       "    .dataframe tbody tr th {\n",
       "        vertical-align: top;\n",
       "    }\n",
       "\n",
       "    .dataframe thead th {\n",
       "        text-align: right;\n",
       "    }\n",
       "</style>\n",
       "<table border=\"1\" class=\"dataframe\">\n",
       "  <thead>\n",
       "    <tr style=\"text-align: right;\">\n",
       "      <th></th>\n",
       "      <th>image_id</th>\n",
       "      <th>answer</th>\n",
       "      <th>convnextv2</th>\n",
       "      <th>convnextv2_balanced</th>\n",
       "      <th>mobilenetv3</th>\n",
       "      <th>vit</th>\n",
       "      <th>__index_level_0__</th>\n",
       "    </tr>\n",
       "  </thead>\n",
       "  <tbody>\n",
       "    <tr>\n",
       "      <th>0</th>\n",
       "      <td>1586338305.jpg</td>\n",
       "      <td>3</td>\n",
       "      <td>[-3.2536468505859375, -2.6047475337982178, -0....</td>\n",
       "      <td>[-0.25814253091812134, -1.3590772151947021, -0...</td>\n",
       "      <td>[1.9638902813312598e-05, 5.641267853206955e-05...</td>\n",
       "      <td>[-3.321620225906372, -3.069734573364258, -0.71...</td>\n",
       "      <td>351</td>\n",
       "    </tr>\n",
       "    <tr>\n",
       "      <th>1</th>\n",
       "      <td>4109154808.jpg</td>\n",
       "      <td>3</td>\n",
       "      <td>[-3.1794118881225586, -2.796578884124756, -1.2...</td>\n",
       "      <td>[-0.34996867179870605, -0.8078905940055847, -0...</td>\n",
       "      <td>[1.0344053436028844e-07, 5.012622636968445e-07...</td>\n",
       "      <td>[-2.587888479232788, -2.8572161197662354, -1.1...</td>\n",
       "      <td>530</td>\n",
       "    </tr>\n",
       "    <tr>\n",
       "      <th>2</th>\n",
       "      <td>634816572.jpg</td>\n",
       "      <td>3</td>\n",
       "      <td>[-3.539937973022461, -1.7975764274597168, -0.7...</td>\n",
       "      <td>[-0.22549781203269958, -0.8406252861022949, -0...</td>\n",
       "      <td>[9.457328269490972e-05, 0.00013533516903407872...</td>\n",
       "      <td>[-3.160341739654541, -1.1152867078781128, -0.2...</td>\n",
       "      <td>896</td>\n",
       "    </tr>\n",
       "    <tr>\n",
       "      <th>3</th>\n",
       "      <td>3885885091.jpg</td>\n",
       "      <td>3</td>\n",
       "      <td>[-2.65594744682312, -2.5383026599884033, -1.20...</td>\n",
       "      <td>[-0.16385968029499054, -0.8772090673446655, -1...</td>\n",
       "      <td>[7.579084194730967e-05, 0.0008043970447033644,...</td>\n",
       "      <td>[-1.7944451570510864, -1.4936530590057373, -1....</td>\n",
       "      <td>947</td>\n",
       "    </tr>\n",
       "    <tr>\n",
       "      <th>4</th>\n",
       "      <td>3920433539.jpg</td>\n",
       "      <td>0</td>\n",
       "      <td>[2.8496909141540527, -0.3478693962097168, -1.6...</td>\n",
       "      <td>[3.1631290912628174, 0.20580849051475525, -0.6...</td>\n",
       "      <td>[0.9674176573753357, 0.007927113212645054, 0.0...</td>\n",
       "      <td>[3.7792317867279053, 0.06791925430297852, -2.1...</td>\n",
       "      <td>936</td>\n",
       "    </tr>\n",
       "  </tbody>\n",
       "</table>\n",
       "</div>"
      ],
      "text/plain": [
       "         image_id  answer                                         convnextv2  \\\n",
       "0  1586338305.jpg       3  [-3.2536468505859375, -2.6047475337982178, -0....   \n",
       "1  4109154808.jpg       3  [-3.1794118881225586, -2.796578884124756, -1.2...   \n",
       "2   634816572.jpg       3  [-3.539937973022461, -1.7975764274597168, -0.7...   \n",
       "3  3885885091.jpg       3  [-2.65594744682312, -2.5383026599884033, -1.20...   \n",
       "4  3920433539.jpg       0  [2.8496909141540527, -0.3478693962097168, -1.6...   \n",
       "\n",
       "                                 convnextv2_balanced  \\\n",
       "0  [-0.25814253091812134, -1.3590772151947021, -0...   \n",
       "1  [-0.34996867179870605, -0.8078905940055847, -0...   \n",
       "2  [-0.22549781203269958, -0.8406252861022949, -0...   \n",
       "3  [-0.16385968029499054, -0.8772090673446655, -1...   \n",
       "4  [3.1631290912628174, 0.20580849051475525, -0.6...   \n",
       "\n",
       "                                         mobilenetv3  \\\n",
       "0  [1.9638902813312598e-05, 5.641267853206955e-05...   \n",
       "1  [1.0344053436028844e-07, 5.012622636968445e-07...   \n",
       "2  [9.457328269490972e-05, 0.00013533516903407872...   \n",
       "3  [7.579084194730967e-05, 0.0008043970447033644,...   \n",
       "4  [0.9674176573753357, 0.007927113212645054, 0.0...   \n",
       "\n",
       "                                                 vit  __index_level_0__  \n",
       "0  [-3.321620225906372, -3.069734573364258, -0.71...                351  \n",
       "1  [-2.587888479232788, -2.8572161197662354, -1.1...                530  \n",
       "2  [-3.160341739654541, -1.1152867078781128, -0.2...                896  \n",
       "3  [-1.7944451570510864, -1.4936530590057373, -1....                947  \n",
       "4  [3.7792317867279053, 0.06791925430297852, -2.1...                936  "
      ]
     },
     "execution_count": 243,
     "metadata": {},
     "output_type": "execute_result"
    }
   ],
   "source": [
    "train_df.head()"
   ]
  },
  {
   "cell_type": "code",
   "execution_count": 244,
   "metadata": {},
   "outputs": [
    {
     "data": {
      "text/html": [
       "<div>\n",
       "<style scoped>\n",
       "    .dataframe tbody tr th:only-of-type {\n",
       "        vertical-align: middle;\n",
       "    }\n",
       "\n",
       "    .dataframe tbody tr th {\n",
       "        vertical-align: top;\n",
       "    }\n",
       "\n",
       "    .dataframe thead th {\n",
       "        text-align: right;\n",
       "    }\n",
       "</style>\n",
       "<table border=\"1\" class=\"dataframe\">\n",
       "  <thead>\n",
       "    <tr style=\"text-align: right;\">\n",
       "      <th></th>\n",
       "      <th>image_id</th>\n",
       "      <th>answer</th>\n",
       "      <th>convnextv2</th>\n",
       "      <th>convnextv2_balanced</th>\n",
       "      <th>mobilenetv3</th>\n",
       "      <th>vit</th>\n",
       "      <th>__index_level_0__</th>\n",
       "    </tr>\n",
       "  </thead>\n",
       "  <tbody>\n",
       "    <tr>\n",
       "      <th>0</th>\n",
       "      <td>1032082353.jpg</td>\n",
       "      <td>3</td>\n",
       "      <td>[-2.8055851459503174, -1.899994969367981, -0.1...</td>\n",
       "      <td>[-0.8705260753631592, -0.35763120651245117, -0...</td>\n",
       "      <td>[1.8842243889594101e-06, 4.885403177468106e-05...</td>\n",
       "      <td>[-2.6817591190338135, -1.4198451042175293, 0.3...</td>\n",
       "      <td>644</td>\n",
       "    </tr>\n",
       "    <tr>\n",
       "      <th>1</th>\n",
       "      <td>3453071010.jpg</td>\n",
       "      <td>4</td>\n",
       "      <td>[-0.26134613156318665, -1.9008660316467285, -1...</td>\n",
       "      <td>[1.422821044921875, -0.6947699189186096, -0.02...</td>\n",
       "      <td>[0.004472201690077782, 0.2566199004650116, 0.0...</td>\n",
       "      <td>[-0.6916424632072449, -0.5975199937820435, -1....</td>\n",
       "      <td>629</td>\n",
       "    </tr>\n",
       "    <tr>\n",
       "      <th>2</th>\n",
       "      <td>3619872017.jpg</td>\n",
       "      <td>3</td>\n",
       "      <td>[-2.263319969177246, 0.07364509254693985, -1.6...</td>\n",
       "      <td>[-0.481817364692688, -0.6947422027587891, -1.2...</td>\n",
       "      <td>[1.7813044905778952e-06, 0.0002525941818021238...</td>\n",
       "      <td>[-1.1457653045654297, -0.06673234701156616, -1...</td>\n",
       "      <td>70</td>\n",
       "    </tr>\n",
       "    <tr>\n",
       "      <th>3</th>\n",
       "      <td>2405023635.jpg</td>\n",
       "      <td>3</td>\n",
       "      <td>[0.45248937606811523, -0.7792124152183533, -0....</td>\n",
       "      <td>[1.325195550918579, -0.4810410141944885, -1.31...</td>\n",
       "      <td>[0.15254716575145721, 0.09175295382738113, 0.0...</td>\n",
       "      <td>[-0.7659131288528442, -1.7290306091308594, -0....</td>\n",
       "      <td>962</td>\n",
       "    </tr>\n",
       "    <tr>\n",
       "      <th>4</th>\n",
       "      <td>807086334.jpg</td>\n",
       "      <td>2</td>\n",
       "      <td>[-2.7944529056549072, -2.382516384124756, 3.72...</td>\n",
       "      <td>[-1.1005042791366577, -1.034427523612976, 2.86...</td>\n",
       "      <td>[0.0007713254308328032, 0.0009335664799436927,...</td>\n",
       "      <td>[-2.2144246101379395, -1.9241547584533691, 5.0...</td>\n",
       "      <td>787</td>\n",
       "    </tr>\n",
       "  </tbody>\n",
       "</table>\n",
       "</div>"
      ],
      "text/plain": [
       "         image_id  answer                                         convnextv2  \\\n",
       "0  1032082353.jpg       3  [-2.8055851459503174, -1.899994969367981, -0.1...   \n",
       "1  3453071010.jpg       4  [-0.26134613156318665, -1.9008660316467285, -1...   \n",
       "2  3619872017.jpg       3  [-2.263319969177246, 0.07364509254693985, -1.6...   \n",
       "3  2405023635.jpg       3  [0.45248937606811523, -0.7792124152183533, -0....   \n",
       "4   807086334.jpg       2  [-2.7944529056549072, -2.382516384124756, 3.72...   \n",
       "\n",
       "                                 convnextv2_balanced  \\\n",
       "0  [-0.8705260753631592, -0.35763120651245117, -0...   \n",
       "1  [1.422821044921875, -0.6947699189186096, -0.02...   \n",
       "2  [-0.481817364692688, -0.6947422027587891, -1.2...   \n",
       "3  [1.325195550918579, -0.4810410141944885, -1.31...   \n",
       "4  [-1.1005042791366577, -1.034427523612976, 2.86...   \n",
       "\n",
       "                                         mobilenetv3  \\\n",
       "0  [1.8842243889594101e-06, 4.885403177468106e-05...   \n",
       "1  [0.004472201690077782, 0.2566199004650116, 0.0...   \n",
       "2  [1.7813044905778952e-06, 0.0002525941818021238...   \n",
       "3  [0.15254716575145721, 0.09175295382738113, 0.0...   \n",
       "4  [0.0007713254308328032, 0.0009335664799436927,...   \n",
       "\n",
       "                                                 vit  __index_level_0__  \n",
       "0  [-2.6817591190338135, -1.4198451042175293, 0.3...                644  \n",
       "1  [-0.6916424632072449, -0.5975199937820435, -1....                629  \n",
       "2  [-1.1457653045654297, -0.06673234701156616, -1...                 70  \n",
       "3  [-0.7659131288528442, -1.7290306091308594, -0....                962  \n",
       "4  [-2.2144246101379395, -1.9241547584533691, 5.0...                787  "
      ]
     },
     "execution_count": 244,
     "metadata": {},
     "output_type": "execute_result"
    }
   ],
   "source": [
    "val_df.head()"
   ]
  },
  {
   "cell_type": "code",
   "execution_count": 245,
   "metadata": {},
   "outputs": [],
   "source": [
    "import numpy as np\n",
    "\n",
    "\n",
    "def extract_features(item):\n",
    "    features = []\n",
    "    for model in models:\n",
    "        feature = item[model]\n",
    "        if model != \"mobilenetv3\":\n",
    "            feature = softmax(feature).tolist()\n",
    "        feature = np.sqrt(np.array(feature)).tolist()\n",
    "        features.extend(feature)\n",
    "    return features"
   ]
  },
  {
   "cell_type": "code",
   "execution_count": 246,
   "metadata": {},
   "outputs": [],
   "source": [
    "train_data = {\"X\": [extract_features(item) for _, item in train_df.iterrows()], \"y\": train_df[\"answer\"]}"
   ]
  },
  {
   "cell_type": "code",
   "execution_count": 247,
   "metadata": {},
   "outputs": [
    {
     "data": {
      "text/html": [
       "<style>#sk-container-id-31 {color: black;background-color: white;}#sk-container-id-31 pre{padding: 0;}#sk-container-id-31 div.sk-toggleable {background-color: white;}#sk-container-id-31 label.sk-toggleable__label {cursor: pointer;display: block;width: 100%;margin-bottom: 0;padding: 0.3em;box-sizing: border-box;text-align: center;}#sk-container-id-31 label.sk-toggleable__label-arrow:before {content: \"▸\";float: left;margin-right: 0.25em;color: #696969;}#sk-container-id-31 label.sk-toggleable__label-arrow:hover:before {color: black;}#sk-container-id-31 div.sk-estimator:hover label.sk-toggleable__label-arrow:before {color: black;}#sk-container-id-31 div.sk-toggleable__content {max-height: 0;max-width: 0;overflow: hidden;text-align: left;background-color: #f0f8ff;}#sk-container-id-31 div.sk-toggleable__content pre {margin: 0.2em;color: black;border-radius: 0.25em;background-color: #f0f8ff;}#sk-container-id-31 input.sk-toggleable__control:checked~div.sk-toggleable__content {max-height: 200px;max-width: 100%;overflow: auto;}#sk-container-id-31 input.sk-toggleable__control:checked~label.sk-toggleable__label-arrow:before {content: \"▾\";}#sk-container-id-31 div.sk-estimator input.sk-toggleable__control:checked~label.sk-toggleable__label {background-color: #d4ebff;}#sk-container-id-31 div.sk-label input.sk-toggleable__control:checked~label.sk-toggleable__label {background-color: #d4ebff;}#sk-container-id-31 input.sk-hidden--visually {border: 0;clip: rect(1px 1px 1px 1px);clip: rect(1px, 1px, 1px, 1px);height: 1px;margin: -1px;overflow: hidden;padding: 0;position: absolute;width: 1px;}#sk-container-id-31 div.sk-estimator {font-family: monospace;background-color: #f0f8ff;border: 1px dotted black;border-radius: 0.25em;box-sizing: border-box;margin-bottom: 0.5em;}#sk-container-id-31 div.sk-estimator:hover {background-color: #d4ebff;}#sk-container-id-31 div.sk-parallel-item::after {content: \"\";width: 100%;border-bottom: 1px solid gray;flex-grow: 1;}#sk-container-id-31 div.sk-label:hover label.sk-toggleable__label {background-color: #d4ebff;}#sk-container-id-31 div.sk-serial::before {content: \"\";position: absolute;border-left: 1px solid gray;box-sizing: border-box;top: 0;bottom: 0;left: 50%;z-index: 0;}#sk-container-id-31 div.sk-serial {display: flex;flex-direction: column;align-items: center;background-color: white;padding-right: 0.2em;padding-left: 0.2em;position: relative;}#sk-container-id-31 div.sk-item {position: relative;z-index: 1;}#sk-container-id-31 div.sk-parallel {display: flex;align-items: stretch;justify-content: center;background-color: white;position: relative;}#sk-container-id-31 div.sk-item::before, #sk-container-id-31 div.sk-parallel-item::before {content: \"\";position: absolute;border-left: 1px solid gray;box-sizing: border-box;top: 0;bottom: 0;left: 50%;z-index: -1;}#sk-container-id-31 div.sk-parallel-item {display: flex;flex-direction: column;z-index: 1;position: relative;background-color: white;}#sk-container-id-31 div.sk-parallel-item:first-child::after {align-self: flex-end;width: 50%;}#sk-container-id-31 div.sk-parallel-item:last-child::after {align-self: flex-start;width: 50%;}#sk-container-id-31 div.sk-parallel-item:only-child::after {width: 0;}#sk-container-id-31 div.sk-dashed-wrapped {border: 1px dashed gray;margin: 0 0.4em 0.5em 0.4em;box-sizing: border-box;padding-bottom: 0.4em;background-color: white;}#sk-container-id-31 div.sk-label label {font-family: monospace;font-weight: bold;display: inline-block;line-height: 1.2em;}#sk-container-id-31 div.sk-label-container {text-align: center;}#sk-container-id-31 div.sk-container {/* jupyter's `normalize.less` sets `[hidden] { display: none; }` but bootstrap.min.css set `[hidden] { display: none !important; }` so we also need the `!important` here to be able to override the default hidden behavior on the sphinx rendered scikit-learn.org. See: https://github.com/scikit-learn/scikit-learn/issues/21755 */display: inline-block !important;position: relative;}#sk-container-id-31 div.sk-text-repr-fallback {display: none;}</style><div id=\"sk-container-id-31\" class=\"sk-top-container\"><div class=\"sk-text-repr-fallback\"><pre>LinearSVC()</pre><b>In a Jupyter environment, please rerun this cell to show the HTML representation or trust the notebook. <br />On GitHub, the HTML representation is unable to render, please try loading this page with nbviewer.org.</b></div><div class=\"sk-container\" hidden><div class=\"sk-item\"><div class=\"sk-estimator sk-toggleable\"><input class=\"sk-toggleable__control sk-hidden--visually\" id=\"sk-estimator-id-31\" type=\"checkbox\" checked><label for=\"sk-estimator-id-31\" class=\"sk-toggleable__label sk-toggleable__label-arrow\">LinearSVC</label><div class=\"sk-toggleable__content\"><pre>LinearSVC()</pre></div></div></div></div></div>"
      ],
      "text/plain": [
       "LinearSVC()"
      ]
     },
     "execution_count": 247,
     "metadata": {},
     "output_type": "execute_result"
    }
   ],
   "source": [
    "model = svm.LinearSVC()\n",
    "model.fit(train_data[\"X\"], train_data[\"y\"])"
   ]
  },
  {
   "cell_type": "code",
   "execution_count": 248,
   "metadata": {},
   "outputs": [],
   "source": [
    "val_data = {\"X\": [extract_features(item) for _, item in val_df.iterrows()], \"y\": val_df[\"answer\"]}"
   ]
  },
  {
   "cell_type": "code",
   "execution_count": 249,
   "metadata": {},
   "outputs": [
    {
     "data": {
      "text/plain": [
       "0.9392523364485982"
      ]
     },
     "execution_count": 249,
     "metadata": {},
     "output_type": "execute_result"
    }
   ],
   "source": [
    "model.score(val_data[\"X\"], val_data[\"y\"])"
   ]
  },
  {
   "cell_type": "code",
   "execution_count": 250,
   "metadata": {},
   "outputs": [
    {
     "data": {
      "text/plain": [
       "0.9299065420560748"
      ]
     },
     "execution_count": 250,
     "metadata": {},
     "output_type": "execute_result"
    }
   ],
   "source": [
    "model.score(train_data[\"X\"], train_data[\"y\"])"
   ]
  },
  {
   "cell_type": "code",
   "execution_count": 251,
   "metadata": {},
   "outputs": [
    {
     "name": "stdout",
     "output_type": "stream",
     "text": [
      "Creating model directory /data/pufanyi/project/SC4000/assets\n",
      "Saving model to /data/pufanyi/project/SC4000/assets/model_selection.pkl\n"
     ]
    }
   ],
   "source": [
    "import pickle\n",
    "from pathlib import Path\n",
    "\n",
    "model_path = Path(\"../../assets/\")\n",
    "\n",
    "print(\"Creating model directory\", model_path.resolve().absolute())\n",
    "\n",
    "model_path.mkdir(parents=True, exist_ok=True)\n",
    "\n",
    "path = model_path / \"model_selection.pkl\"\n",
    "\n",
    "print(\"Saving model to\", path.resolve().absolute())\n",
    "\n",
    "with open(path, \"wb\") as f:\n",
    "    pickle.dump(model, f)"
   ]
  },
  {
   "cell_type": "code",
   "execution_count": 252,
   "metadata": {},
   "outputs": [],
   "source": [
    "import pickle\n",
    "\n",
    "with open(path, \"rb\") as f:\n",
    "    model = pickle.load(f)"
   ]
  },
  {
   "cell_type": "code",
   "execution_count": 253,
   "metadata": {},
   "outputs": [
    {
     "data": {
      "text/html": [
       "<style>#sk-container-id-32 {color: black;background-color: white;}#sk-container-id-32 pre{padding: 0;}#sk-container-id-32 div.sk-toggleable {background-color: white;}#sk-container-id-32 label.sk-toggleable__label {cursor: pointer;display: block;width: 100%;margin-bottom: 0;padding: 0.3em;box-sizing: border-box;text-align: center;}#sk-container-id-32 label.sk-toggleable__label-arrow:before {content: \"▸\";float: left;margin-right: 0.25em;color: #696969;}#sk-container-id-32 label.sk-toggleable__label-arrow:hover:before {color: black;}#sk-container-id-32 div.sk-estimator:hover label.sk-toggleable__label-arrow:before {color: black;}#sk-container-id-32 div.sk-toggleable__content {max-height: 0;max-width: 0;overflow: hidden;text-align: left;background-color: #f0f8ff;}#sk-container-id-32 div.sk-toggleable__content pre {margin: 0.2em;color: black;border-radius: 0.25em;background-color: #f0f8ff;}#sk-container-id-32 input.sk-toggleable__control:checked~div.sk-toggleable__content {max-height: 200px;max-width: 100%;overflow: auto;}#sk-container-id-32 input.sk-toggleable__control:checked~label.sk-toggleable__label-arrow:before {content: \"▾\";}#sk-container-id-32 div.sk-estimator input.sk-toggleable__control:checked~label.sk-toggleable__label {background-color: #d4ebff;}#sk-container-id-32 div.sk-label input.sk-toggleable__control:checked~label.sk-toggleable__label {background-color: #d4ebff;}#sk-container-id-32 input.sk-hidden--visually {border: 0;clip: rect(1px 1px 1px 1px);clip: rect(1px, 1px, 1px, 1px);height: 1px;margin: -1px;overflow: hidden;padding: 0;position: absolute;width: 1px;}#sk-container-id-32 div.sk-estimator {font-family: monospace;background-color: #f0f8ff;border: 1px dotted black;border-radius: 0.25em;box-sizing: border-box;margin-bottom: 0.5em;}#sk-container-id-32 div.sk-estimator:hover {background-color: #d4ebff;}#sk-container-id-32 div.sk-parallel-item::after {content: \"\";width: 100%;border-bottom: 1px solid gray;flex-grow: 1;}#sk-container-id-32 div.sk-label:hover label.sk-toggleable__label {background-color: #d4ebff;}#sk-container-id-32 div.sk-serial::before {content: \"\";position: absolute;border-left: 1px solid gray;box-sizing: border-box;top: 0;bottom: 0;left: 50%;z-index: 0;}#sk-container-id-32 div.sk-serial {display: flex;flex-direction: column;align-items: center;background-color: white;padding-right: 0.2em;padding-left: 0.2em;position: relative;}#sk-container-id-32 div.sk-item {position: relative;z-index: 1;}#sk-container-id-32 div.sk-parallel {display: flex;align-items: stretch;justify-content: center;background-color: white;position: relative;}#sk-container-id-32 div.sk-item::before, #sk-container-id-32 div.sk-parallel-item::before {content: \"\";position: absolute;border-left: 1px solid gray;box-sizing: border-box;top: 0;bottom: 0;left: 50%;z-index: -1;}#sk-container-id-32 div.sk-parallel-item {display: flex;flex-direction: column;z-index: 1;position: relative;background-color: white;}#sk-container-id-32 div.sk-parallel-item:first-child::after {align-self: flex-end;width: 50%;}#sk-container-id-32 div.sk-parallel-item:last-child::after {align-self: flex-start;width: 50%;}#sk-container-id-32 div.sk-parallel-item:only-child::after {width: 0;}#sk-container-id-32 div.sk-dashed-wrapped {border: 1px dashed gray;margin: 0 0.4em 0.5em 0.4em;box-sizing: border-box;padding-bottom: 0.4em;background-color: white;}#sk-container-id-32 div.sk-label label {font-family: monospace;font-weight: bold;display: inline-block;line-height: 1.2em;}#sk-container-id-32 div.sk-label-container {text-align: center;}#sk-container-id-32 div.sk-container {/* jupyter's `normalize.less` sets `[hidden] { display: none; }` but bootstrap.min.css set `[hidden] { display: none !important; }` so we also need the `!important` here to be able to override the default hidden behavior on the sphinx rendered scikit-learn.org. See: https://github.com/scikit-learn/scikit-learn/issues/21755 */display: inline-block !important;position: relative;}#sk-container-id-32 div.sk-text-repr-fallback {display: none;}</style><div id=\"sk-container-id-32\" class=\"sk-top-container\"><div class=\"sk-text-repr-fallback\"><pre>LinearSVC()</pre><b>In a Jupyter environment, please rerun this cell to show the HTML representation or trust the notebook. <br />On GitHub, the HTML representation is unable to render, please try loading this page with nbviewer.org.</b></div><div class=\"sk-container\" hidden><div class=\"sk-item\"><div class=\"sk-estimator sk-toggleable\"><input class=\"sk-toggleable__control sk-hidden--visually\" id=\"sk-estimator-id-32\" type=\"checkbox\" checked><label for=\"sk-estimator-id-32\" class=\"sk-toggleable__label sk-toggleable__label-arrow\">LinearSVC</label><div class=\"sk-toggleable__content\"><pre>LinearSVC()</pre></div></div></div></div></div>"
      ],
      "text/plain": [
       "LinearSVC()"
      ]
     },
     "execution_count": 253,
     "metadata": {},
     "output_type": "execute_result"
    }
   ],
   "source": [
    "model"
   ]
  },
  {
   "cell_type": "code",
   "execution_count": 254,
   "metadata": {},
   "outputs": [
    {
     "data": {
      "text/plain": [
       "array([3, 4, 3, 3, 2, 3, 3, 3, 3, 3, 4, 3, 2, 3, 3, 3, 3, 3, 3, 3, 4, 3,\n",
       "       3, 3, 3, 3, 3, 3, 4, 3, 3, 4, 1, 3, 3, 3, 0, 3, 3, 1, 1, 3, 2, 3,\n",
       "       1, 3, 3, 3, 3, 3, 3, 3, 1, 4, 1, 3, 4, 2, 3, 3, 3, 3, 3, 2, 3, 4,\n",
       "       3, 2, 2, 3, 4, 0, 1, 3, 3, 3, 3, 4, 3, 1, 3, 0, 3, 3, 3, 2, 3, 3,\n",
       "       2, 3, 3, 3, 2, 3, 2, 3, 4, 4, 0, 3, 0, 2, 0, 3, 4, 2, 3, 2, 3, 3,\n",
       "       3, 4, 1, 1, 4, 3, 3, 1, 3, 3, 3, 3, 3, 3, 2, 3, 2, 0, 3, 3, 3, 4,\n",
       "       1, 4, 2, 4, 0, 3, 3, 2, 3, 1, 3, 3, 3, 3, 3, 3, 3, 3, 3, 3, 1, 1,\n",
       "       1, 3, 3, 3, 3, 3, 3, 3, 3, 3, 3, 4, 3, 3, 3, 3, 1, 4, 2, 4, 1, 3,\n",
       "       3, 3, 4, 1, 3, 0, 3, 2, 3, 3, 0, 3, 3, 3, 3, 3, 3, 3, 4, 3, 3, 3,\n",
       "       3, 3, 1, 3, 4, 3, 3, 3, 4, 3, 3, 2, 3, 3, 0, 3])"
      ]
     },
     "execution_count": 254,
     "metadata": {},
     "output_type": "execute_result"
    }
   ],
   "source": [
    "model.predict(val_data[\"X\"])"
   ]
  },
  {
   "cell_type": "code",
   "execution_count": null,
   "metadata": {},
   "outputs": [],
   "source": []
  }
 ],
 "metadata": {
  "kernelspec": {
   "display_name": "sc4000",
   "language": "python",
   "name": "python3"
  },
  "language_info": {
   "codemirror_mode": {
    "name": "ipython",
    "version": 3
   },
   "file_extension": ".py",
   "mimetype": "text/x-python",
   "name": "python",
   "nbconvert_exporter": "python",
   "pygments_lexer": "ipython3",
   "version": "3.11.10"
  }
 },
 "nbformat": 4,
 "nbformat_minor": 2
}
