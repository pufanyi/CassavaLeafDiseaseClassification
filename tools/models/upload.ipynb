{
 "cells": [
  {
   "cell_type": "code",
   "execution_count": 3,
   "metadata": {},
   "outputs": [
    {
     "name": "stderr",
     "output_type": "stream",
     "text": [
      "/data/pufanyi/anaconda3/conda/envs/sc4000/lib/python3.11/site-packages/tqdm/auto.py:21: TqdmWarning: IProgress not found. Please update jupyter and ipywidgets. See https://ipywidgets.readthedocs.io/en/stable/user_install.html\n",
      "  from .autonotebook import tqdm as notebook_tqdm\n",
      "/data/pufanyi/anaconda3/conda/envs/sc4000/lib/python3.11/site-packages/transformers/utils/hub.py:128: FutureWarning: Using `TRANSFORMERS_CACHE` is deprecated and will be removed in v5 of Transformers. Use `HF_HOME` instead.\n",
      "  warnings.warn(\n"
     ]
    }
   ],
   "source": [
    "from transformers import AutoModelForImageClassification"
   ]
  },
  {
   "cell_type": "code",
   "execution_count": 9,
   "metadata": {},
   "outputs": [],
   "source": [
    "# model_path = \"/data/pufanyi/project/SC4000/output/models/ConvNeXtV2_2024-10-21-23-26-37/checkpoint-15900\"\n",
    "# model_path = \"/data/pufanyi/project/SC4000/output/models/ConvNeXtV2_2024-10-22-13-19-17/checkpoint-15500\"\n",
    "# model_path = \"/data/pufanyi/project/SC4000/output/models/ConvNeXtV2_2024-10-22-19-56-29/checkpoint-3900\"\n",
    "# model_path = \"/data/pufanyi/project/SC4000/output/models/ConvNeXtV2_2024-10-22-19-55-26/checkpoint-12500\"\n",
    "model_path = \"/data/pufanyi/project/SC4000/output/models/ViT_2024-10-23-20-46-43/checkpoint-15900\"\n",
    "upload_path = \"pufanyi/SC4000_vit_base_full_15900\""
   ]
  },
  {
   "cell_type": "code",
   "execution_count": 10,
   "metadata": {},
   "outputs": [],
   "source": [
    "model = AutoModelForImageClassification.from_pretrained(model_path)"
   ]
  },
  {
   "cell_type": "code",
   "execution_count": 11,
   "metadata": {},
   "outputs": [
    {
     "name": "stderr",
     "output_type": "stream",
     "text": [
      "model.safetensors: 100%|██████████| 1.21G/1.21G [01:02<00:00, 19.5MB/s]\n"
     ]
    },
    {
     "data": {
      "text/plain": [
       "CommitInfo(commit_url='https://huggingface.co/pufanyi/SC4000_vit_base_full_15900/commit/b29c44849af45a418608bf978ea513edf3c8e665', commit_message='Upload ViTForImageClassification', commit_description='', oid='b29c44849af45a418608bf978ea513edf3c8e665', pr_url=None, repo_url=RepoUrl('https://huggingface.co/pufanyi/SC4000_vit_base_full_15900', endpoint='https://huggingface.co', repo_type='model', repo_id='pufanyi/SC4000_vit_base_full_15900'), pr_revision=None, pr_num=None)"
      ]
     },
     "execution_count": 11,
     "metadata": {},
     "output_type": "execute_result"
    }
   ],
   "source": [
    "model.push_to_hub(upload_path)"
   ]
  },
  {
   "cell_type": "code",
   "execution_count": 7,
   "metadata": {},
   "outputs": [],
   "source": [
    "from transformers import AutoImageProcessor\n",
    "\n",
    "processor = AutoImageProcessor.from_pretrained(model_path)"
   ]
  },
  {
   "cell_type": "code",
   "execution_count": 8,
   "metadata": {},
   "outputs": [
    {
     "data": {
      "text/plain": [
       "CommitInfo(commit_url='https://huggingface.co/pufanyi/SC4000_vit_large_full_15900/commit/6874ba0af760755bbac53e5836d59feddd28c873', commit_message='Upload processor', commit_description='', oid='6874ba0af760755bbac53e5836d59feddd28c873', pr_url=None, repo_url=RepoUrl('https://huggingface.co/pufanyi/SC4000_vit_large_full_15900', endpoint='https://huggingface.co', repo_type='model', repo_id='pufanyi/SC4000_vit_large_full_15900'), pr_revision=None, pr_num=None)"
      ]
     },
     "execution_count": 8,
     "metadata": {},
     "output_type": "execute_result"
    }
   ],
   "source": [
    "processor.push_to_hub(upload_path)"
   ]
  },
  {
   "cell_type": "code",
   "execution_count": null,
   "metadata": {},
   "outputs": [],
   "source": []
  },
  {
   "cell_type": "code",
   "execution_count": null,
   "metadata": {},
   "outputs": [],
   "source": []
  }
 ],
 "metadata": {
  "kernelspec": {
   "display_name": "sc4000",
   "language": "python",
   "name": "python3"
  },
  "language_info": {
   "codemirror_mode": {
    "name": "ipython",
    "version": 3
   },
   "file_extension": ".py",
   "mimetype": "text/x-python",
   "name": "python",
   "nbconvert_exporter": "python",
   "pygments_lexer": "ipython3",
   "version": "3.11.10"
  }
 },
 "nbformat": 4,
 "nbformat_minor": 2
}
