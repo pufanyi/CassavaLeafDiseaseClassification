{
 "cells": [
  {
   "cell_type": "code",
   "execution_count": 1,
   "metadata": {},
   "outputs": [
    {
     "name": "stderr",
     "output_type": "stream",
     "text": [
      "/data/pufanyi/anaconda3/conda/envs/sc4000/lib/python3.11/site-packages/tqdm/auto.py:21: TqdmWarning: IProgress not found. Please update jupyter and ipywidgets. See https://ipywidgets.readthedocs.io/en/stable/user_install.html\n",
      "  from .autonotebook import tqdm as notebook_tqdm\n",
      "/data/pufanyi/anaconda3/conda/envs/sc4000/lib/python3.11/site-packages/transformers/utils/hub.py:128: FutureWarning: Using `TRANSFORMERS_CACHE` is deprecated and will be removed in v5 of Transformers. Use `HF_HOME` instead.\n",
      "  warnings.warn(\n"
     ]
    }
   ],
   "source": [
    "from transformers import AutoModelForImageClassification"
   ]
  },
  {
   "cell_type": "code",
   "execution_count": 2,
   "metadata": {},
   "outputs": [],
   "source": [
    "# model_path = \"/data/pufanyi/project/SC4000/output/models/ConvNeXtV2_2024-10-21-23-26-37/checkpoint-15900\"\n",
    "# model_path = \"/data/pufanyi/project/SC4000/output/models/ConvNeXtV2_2024-10-22-13-19-17/checkpoint-15500\"\n",
    "# model_path = \"/data/pufanyi/project/SC4000/output/models/ConvNeXtV2_2024-10-22-19-56-29/checkpoint-3900\"\n",
    "# model_path = \"/data/pufanyi/project/SC4000/output/models/ConvNeXtV2_2024-10-22-19-55-26/checkpoint-12500\"\n",
    "# model_path = \"/data/pufanyi/project/SC4000/output/models/ViT_2024-10-23-20-46-43/checkpoint-15900\"\n",
    "# model_path = \"/data/pufanyi/project/SC4000/output/models/ConvNeXtV2_2024-10-25-10-19-27/checkpoint-5000\"\n",
    "model_path = \"/data/pufanyi/project/SC4000/output/models/ConvNeXtV2_2024-10-25-13-21-59/checkpoint-13400\"\n",
    "upload_path = \"pufanyi/SC4000_ConvNeXt_base_transformed_13400\""
   ]
  },
  {
   "cell_type": "code",
   "execution_count": 3,
   "metadata": {},
   "outputs": [],
   "source": [
    "model = AutoModelForImageClassification.from_pretrained(model_path)"
   ]
  },
  {
   "cell_type": "code",
   "execution_count": 4,
   "metadata": {},
   "outputs": [
    {
     "name": "stderr",
     "output_type": "stream",
     "text": [
      "model.safetensors: 100%|██████████| 351M/351M [00:23<00:00, 15.2MB/s] \n"
     ]
    },
    {
     "data": {
      "text/plain": [
       "CommitInfo(commit_url='https://huggingface.co/pufanyi/SC4000_ConvNeXt_base_transformed_13400/commit/cdfdf1b9f2526d7c80f1d054bf4972d0846a3e70', commit_message='Upload ConvNextV2ForImageClassification', commit_description='', oid='cdfdf1b9f2526d7c80f1d054bf4972d0846a3e70', pr_url=None, repo_url=RepoUrl('https://huggingface.co/pufanyi/SC4000_ConvNeXt_base_transformed_13400', endpoint='https://huggingface.co', repo_type='model', repo_id='pufanyi/SC4000_ConvNeXt_base_transformed_13400'), pr_revision=None, pr_num=None)"
      ]
     },
     "execution_count": 4,
     "metadata": {},
     "output_type": "execute_result"
    }
   ],
   "source": [
    "model.push_to_hub(upload_path)"
   ]
  },
  {
   "cell_type": "code",
   "execution_count": 5,
   "metadata": {},
   "outputs": [],
   "source": [
    "from transformers import AutoImageProcessor\n",
    "\n",
    "image_processor = AutoImageProcessor.from_pretrained(model_path)"
   ]
  },
  {
   "cell_type": "code",
   "execution_count": 6,
   "metadata": {},
   "outputs": [
    {
     "data": {
      "text/plain": [
       "CommitInfo(commit_url='https://huggingface.co/pufanyi/SC4000_ConvNeXt_base_transformed_13400/commit/a17247421c66dff994eb452792d46963249fd999', commit_message='Upload processor', commit_description='', oid='a17247421c66dff994eb452792d46963249fd999', pr_url=None, repo_url=RepoUrl('https://huggingface.co/pufanyi/SC4000_ConvNeXt_base_transformed_13400', endpoint='https://huggingface.co', repo_type='model', repo_id='pufanyi/SC4000_ConvNeXt_base_transformed_13400'), pr_revision=None, pr_num=None)"
      ]
     },
     "execution_count": 6,
     "metadata": {},
     "output_type": "execute_result"
    }
   ],
   "source": [
    "image_processor.push_to_hub(upload_path)"
   ]
  },
  {
   "cell_type": "code",
   "execution_count": null,
   "metadata": {},
   "outputs": [],
   "source": []
  }
 ],
 "metadata": {
  "kernelspec": {
   "display_name": "sc4000",
   "language": "python",
   "name": "python3"
  },
  "language_info": {
   "codemirror_mode": {
    "name": "ipython",
    "version": 3
   },
   "file_extension": ".py",
   "mimetype": "text/x-python",
   "name": "python",
   "nbconvert_exporter": "python",
   "pygments_lexer": "ipython3",
   "version": "3.11.10"
  }
 },
 "nbformat": 4,
 "nbformat_minor": 2
}
