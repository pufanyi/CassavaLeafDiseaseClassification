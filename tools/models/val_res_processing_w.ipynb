{
 "cells": [
  {
   "cell_type": "code",
   "execution_count": 2,
   "metadata": {},
   "outputs": [
    {
     "name": "stderr",
     "output_type": "stream",
     "text": [
      "/data/pufanyi/anaconda3/conda/envs/sc4000/lib/python3.11/site-packages/tqdm/auto.py:21: TqdmWarning: IProgress not found. Please update jupyter and ipywidgets. See https://ipywidgets.readthedocs.io/en/stable/user_install.html\n",
      "  from .autonotebook import tqdm as notebook_tqdm\n"
     ]
    }
   ],
   "source": [
    "from sklearn import svm\n",
    "from datasets import load_dataset\n",
    "from scipy.special import softmax"
   ]
  },
  {
   "cell_type": "code",
   "execution_count": 3,
   "metadata": {},
   "outputs": [],
   "source": [
    "models = [\"convnextv2\", \"mobilenetv3\", \"vit\"]"
   ]
  },
  {
   "cell_type": "code",
   "execution_count": 22,
   "metadata": {},
   "outputs": [],
   "source": [
    "data = load_dataset(\"pufanyi/SC4000_eval_results\", \"val\")\n",
    "# data = load_dataset(\"pufanyi/SC4000_eval_results\", \"full\")"
   ]
  },
  {
   "cell_type": "code",
   "execution_count": 23,
   "metadata": {},
   "outputs": [],
   "source": [
    "train_df, val_df = data[\"train\"].to_pandas(), data[\"validation\"].to_pandas()"
   ]
  },
  {
   "cell_type": "code",
   "execution_count": 24,
   "metadata": {},
   "outputs": [
    {
     "data": {
      "text/html": [
       "<div>\n",
       "<style scoped>\n",
       "    .dataframe tbody tr th:only-of-type {\n",
       "        vertical-align: middle;\n",
       "    }\n",
       "\n",
       "    .dataframe tbody tr th {\n",
       "        vertical-align: top;\n",
       "    }\n",
       "\n",
       "    .dataframe thead th {\n",
       "        text-align: right;\n",
       "    }\n",
       "</style>\n",
       "<table border=\"1\" class=\"dataframe\">\n",
       "  <thead>\n",
       "    <tr style=\"text-align: right;\">\n",
       "      <th></th>\n",
       "      <th>image_id</th>\n",
       "      <th>answer</th>\n",
       "      <th>convnextv2</th>\n",
       "      <th>convnextv2_balanced</th>\n",
       "      <th>mobilenetv3</th>\n",
       "      <th>vit</th>\n",
       "    </tr>\n",
       "  </thead>\n",
       "  <tbody>\n",
       "    <tr>\n",
       "      <th>0</th>\n",
       "      <td>1959106502.jpg</td>\n",
       "      <td>2</td>\n",
       "      <td>[-1.9520471096038818, -0.8462232351303101, 5.1...</td>\n",
       "      <td>[-0.24982061982154846, -1.0279805660247803, 3....</td>\n",
       "      <td>[0.03455905243754387, 0.016511911526322365, 0....</td>\n",
       "      <td>[-2.3550519943237305, 0.15317581593990326, 5.0...</td>\n",
       "    </tr>\n",
       "    <tr>\n",
       "      <th>1</th>\n",
       "      <td>893564766.jpg</td>\n",
       "      <td>3</td>\n",
       "      <td>[-2.7128067016601562, -3.259507179260254, 0.79...</td>\n",
       "      <td>[0.2573392689228058, -1.3081119060516357, -0.2...</td>\n",
       "      <td>[1.689208875177428e-05, 2.0160097847110592e-05...</td>\n",
       "      <td>[-1.9509457349777222, -3.168455123901367, -0.4...</td>\n",
       "    </tr>\n",
       "    <tr>\n",
       "      <th>2</th>\n",
       "      <td>2252885950.jpg</td>\n",
       "      <td>3</td>\n",
       "      <td>[-3.029195547103882, -3.0657451152801514, -2.0...</td>\n",
       "      <td>[-0.5064132809638977, -1.412938117980957, -1.0...</td>\n",
       "      <td>[1.8458380282027065e-06, 1.121260538639035e-06...</td>\n",
       "      <td>[-1.9304018020629883, -3.3717763423919678, -1....</td>\n",
       "    </tr>\n",
       "    <tr>\n",
       "      <th>3</th>\n",
       "      <td>2178418518.jpg</td>\n",
       "      <td>3</td>\n",
       "      <td>[-2.6217901706695557, -3.044633150100708, 0.66...</td>\n",
       "      <td>[-0.23686741292476654, -1.254176139831543, -0....</td>\n",
       "      <td>[4.259888100932585e-06, 7.009319961071014e-05,...</td>\n",
       "      <td>[-3.38240647315979, -2.7183454036712646, 1.395...</td>\n",
       "    </tr>\n",
       "    <tr>\n",
       "      <th>4</th>\n",
       "      <td>244407780.jpg</td>\n",
       "      <td>0</td>\n",
       "      <td>[2.413464069366455, 0.088779516518116, -1.9206...</td>\n",
       "      <td>[1.5419367551803589, 0.20424342155456543, -1.0...</td>\n",
       "      <td>[0.39770635962486267, 0.04494056478142738, 0.0...</td>\n",
       "      <td>[3.041616201400757, -0.7818437814712524, -1.71...</td>\n",
       "    </tr>\n",
       "  </tbody>\n",
       "</table>\n",
       "</div>"
      ],
      "text/plain": [
       "         image_id  answer                                         convnextv2  \\\n",
       "0  1959106502.jpg       2  [-1.9520471096038818, -0.8462232351303101, 5.1...   \n",
       "1   893564766.jpg       3  [-2.7128067016601562, -3.259507179260254, 0.79...   \n",
       "2  2252885950.jpg       3  [-3.029195547103882, -3.0657451152801514, -2.0...   \n",
       "3  2178418518.jpg       3  [-2.6217901706695557, -3.044633150100708, 0.66...   \n",
       "4   244407780.jpg       0  [2.413464069366455, 0.088779516518116, -1.9206...   \n",
       "\n",
       "                                 convnextv2_balanced  \\\n",
       "0  [-0.24982061982154846, -1.0279805660247803, 3....   \n",
       "1  [0.2573392689228058, -1.3081119060516357, -0.2...   \n",
       "2  [-0.5064132809638977, -1.412938117980957, -1.0...   \n",
       "3  [-0.23686741292476654, -1.254176139831543, -0....   \n",
       "4  [1.5419367551803589, 0.20424342155456543, -1.0...   \n",
       "\n",
       "                                         mobilenetv3  \\\n",
       "0  [0.03455905243754387, 0.016511911526322365, 0....   \n",
       "1  [1.689208875177428e-05, 2.0160097847110592e-05...   \n",
       "2  [1.8458380282027065e-06, 1.121260538639035e-06...   \n",
       "3  [4.259888100932585e-06, 7.009319961071014e-05,...   \n",
       "4  [0.39770635962486267, 0.04494056478142738, 0.0...   \n",
       "\n",
       "                                                 vit  \n",
       "0  [-2.3550519943237305, 0.15317581593990326, 5.0...  \n",
       "1  [-1.9509457349777222, -3.168455123901367, -0.4...  \n",
       "2  [-1.9304018020629883, -3.3717763423919678, -1....  \n",
       "3  [-3.38240647315979, -2.7183454036712646, 1.395...  \n",
       "4  [3.041616201400757, -0.7818437814712524, -1.71...  "
      ]
     },
     "execution_count": 24,
     "metadata": {},
     "output_type": "execute_result"
    }
   ],
   "source": [
    "train_df.head()"
   ]
  },
  {
   "cell_type": "code",
   "execution_count": 25,
   "metadata": {},
   "outputs": [
    {
     "data": {
      "text/html": [
       "<div>\n",
       "<style scoped>\n",
       "    .dataframe tbody tr th:only-of-type {\n",
       "        vertical-align: middle;\n",
       "    }\n",
       "\n",
       "    .dataframe tbody tr th {\n",
       "        vertical-align: top;\n",
       "    }\n",
       "\n",
       "    .dataframe thead th {\n",
       "        text-align: right;\n",
       "    }\n",
       "</style>\n",
       "<table border=\"1\" class=\"dataframe\">\n",
       "  <thead>\n",
       "    <tr style=\"text-align: right;\">\n",
       "      <th></th>\n",
       "      <th>image_id</th>\n",
       "      <th>answer</th>\n",
       "      <th>convnextv2</th>\n",
       "      <th>convnextv2_balanced</th>\n",
       "      <th>mobilenetv3</th>\n",
       "      <th>vit</th>\n",
       "    </tr>\n",
       "  </thead>\n",
       "  <tbody>\n",
       "    <tr>\n",
       "      <th>0</th>\n",
       "      <td>1032082353.jpg</td>\n",
       "      <td>3</td>\n",
       "      <td>[-2.8055851459503174, -1.899994969367981, -0.1...</td>\n",
       "      <td>[-0.8705260753631592, -0.35763120651245117, -0...</td>\n",
       "      <td>[1.8842243889594101e-06, 4.885403177468106e-05...</td>\n",
       "      <td>[-2.6817591190338135, -1.4198451042175293, 0.3...</td>\n",
       "    </tr>\n",
       "    <tr>\n",
       "      <th>1</th>\n",
       "      <td>3453071010.jpg</td>\n",
       "      <td>4</td>\n",
       "      <td>[-0.26134613156318665, -1.9008660316467285, -1...</td>\n",
       "      <td>[1.422821044921875, -0.6947699189186096, -0.02...</td>\n",
       "      <td>[0.004472201690077782, 0.2566199004650116, 0.0...</td>\n",
       "      <td>[-0.6916424632072449, -0.5975199937820435, -1....</td>\n",
       "    </tr>\n",
       "    <tr>\n",
       "      <th>2</th>\n",
       "      <td>3619872017.jpg</td>\n",
       "      <td>3</td>\n",
       "      <td>[-2.263319969177246, 0.07364509254693985, -1.6...</td>\n",
       "      <td>[-0.481817364692688, -0.6947422027587891, -1.2...</td>\n",
       "      <td>[1.7813044905778952e-06, 0.0002525941818021238...</td>\n",
       "      <td>[-1.1457653045654297, -0.06673234701156616, -1...</td>\n",
       "    </tr>\n",
       "    <tr>\n",
       "      <th>3</th>\n",
       "      <td>2405023635.jpg</td>\n",
       "      <td>3</td>\n",
       "      <td>[0.45248937606811523, -0.7792124152183533, -0....</td>\n",
       "      <td>[1.325195550918579, -0.4810410141944885, -1.31...</td>\n",
       "      <td>[0.15254716575145721, 0.09175295382738113, 0.0...</td>\n",
       "      <td>[-0.7659131288528442, -1.7290306091308594, -0....</td>\n",
       "    </tr>\n",
       "    <tr>\n",
       "      <th>4</th>\n",
       "      <td>807086334.jpg</td>\n",
       "      <td>2</td>\n",
       "      <td>[-2.7944529056549072, -2.382516384124756, 3.72...</td>\n",
       "      <td>[-1.1005042791366577, -1.034427523612976, 2.86...</td>\n",
       "      <td>[0.0007713254308328032, 0.0009335664799436927,...</td>\n",
       "      <td>[-2.2144246101379395, -1.9241547584533691, 5.0...</td>\n",
       "    </tr>\n",
       "  </tbody>\n",
       "</table>\n",
       "</div>"
      ],
      "text/plain": [
       "         image_id  answer                                         convnextv2  \\\n",
       "0  1032082353.jpg       3  [-2.8055851459503174, -1.899994969367981, -0.1...   \n",
       "1  3453071010.jpg       4  [-0.26134613156318665, -1.9008660316467285, -1...   \n",
       "2  3619872017.jpg       3  [-2.263319969177246, 0.07364509254693985, -1.6...   \n",
       "3  2405023635.jpg       3  [0.45248937606811523, -0.7792124152183533, -0....   \n",
       "4   807086334.jpg       2  [-2.7944529056549072, -2.382516384124756, 3.72...   \n",
       "\n",
       "                                 convnextv2_balanced  \\\n",
       "0  [-0.8705260753631592, -0.35763120651245117, -0...   \n",
       "1  [1.422821044921875, -0.6947699189186096, -0.02...   \n",
       "2  [-0.481817364692688, -0.6947422027587891, -1.2...   \n",
       "3  [1.325195550918579, -0.4810410141944885, -1.31...   \n",
       "4  [-1.1005042791366577, -1.034427523612976, 2.86...   \n",
       "\n",
       "                                         mobilenetv3  \\\n",
       "0  [1.8842243889594101e-06, 4.885403177468106e-05...   \n",
       "1  [0.004472201690077782, 0.2566199004650116, 0.0...   \n",
       "2  [1.7813044905778952e-06, 0.0002525941818021238...   \n",
       "3  [0.15254716575145721, 0.09175295382738113, 0.0...   \n",
       "4  [0.0007713254308328032, 0.0009335664799436927,...   \n",
       "\n",
       "                                                 vit  \n",
       "0  [-2.6817591190338135, -1.4198451042175293, 0.3...  \n",
       "1  [-0.6916424632072449, -0.5975199937820435, -1....  \n",
       "2  [-1.1457653045654297, -0.06673234701156616, -1...  \n",
       "3  [-0.7659131288528442, -1.7290306091308594, -0....  \n",
       "4  [-2.2144246101379395, -1.9241547584533691, 5.0...  "
      ]
     },
     "execution_count": 25,
     "metadata": {},
     "output_type": "execute_result"
    }
   ],
   "source": [
    "val_df.head()"
   ]
  },
  {
   "cell_type": "code",
   "execution_count": 26,
   "metadata": {},
   "outputs": [],
   "source": [
    "import numpy as np\n",
    "\n",
    "\n",
    "def extract_features(item):\n",
    "    features = []\n",
    "    for model in models:\n",
    "        feature = item[model]\n",
    "        if model != \"mobilenetv3\":\n",
    "            feature = softmax(feature).tolist()\n",
    "        feature = np.sqrt(np.array(feature)).tolist()\n",
    "        features.extend(feature)\n",
    "    return features"
   ]
  },
  {
   "cell_type": "code",
   "execution_count": 27,
   "metadata": {},
   "outputs": [],
   "source": [
    "train_data = {\n",
    "    \"X\": [extract_features(item) for _, item in train_df.iterrows()],\n",
    "    \"y\": train_df[\"answer\"],\n",
    "}"
   ]
  },
  {
   "cell_type": "code",
   "execution_count": 28,
   "metadata": {},
   "outputs": [
    {
     "data": {
      "text/html": [
       "<style>#sk-container-id-4 {color: black;background-color: white;}#sk-container-id-4 pre{padding: 0;}#sk-container-id-4 div.sk-toggleable {background-color: white;}#sk-container-id-4 label.sk-toggleable__label {cursor: pointer;display: block;width: 100%;margin-bottom: 0;padding: 0.3em;box-sizing: border-box;text-align: center;}#sk-container-id-4 label.sk-toggleable__label-arrow:before {content: \"▸\";float: left;margin-right: 0.25em;color: #696969;}#sk-container-id-4 label.sk-toggleable__label-arrow:hover:before {color: black;}#sk-container-id-4 div.sk-estimator:hover label.sk-toggleable__label-arrow:before {color: black;}#sk-container-id-4 div.sk-toggleable__content {max-height: 0;max-width: 0;overflow: hidden;text-align: left;background-color: #f0f8ff;}#sk-container-id-4 div.sk-toggleable__content pre {margin: 0.2em;color: black;border-radius: 0.25em;background-color: #f0f8ff;}#sk-container-id-4 input.sk-toggleable__control:checked~div.sk-toggleable__content {max-height: 200px;max-width: 100%;overflow: auto;}#sk-container-id-4 input.sk-toggleable__control:checked~label.sk-toggleable__label-arrow:before {content: \"▾\";}#sk-container-id-4 div.sk-estimator input.sk-toggleable__control:checked~label.sk-toggleable__label {background-color: #d4ebff;}#sk-container-id-4 div.sk-label input.sk-toggleable__control:checked~label.sk-toggleable__label {background-color: #d4ebff;}#sk-container-id-4 input.sk-hidden--visually {border: 0;clip: rect(1px 1px 1px 1px);clip: rect(1px, 1px, 1px, 1px);height: 1px;margin: -1px;overflow: hidden;padding: 0;position: absolute;width: 1px;}#sk-container-id-4 div.sk-estimator {font-family: monospace;background-color: #f0f8ff;border: 1px dotted black;border-radius: 0.25em;box-sizing: border-box;margin-bottom: 0.5em;}#sk-container-id-4 div.sk-estimator:hover {background-color: #d4ebff;}#sk-container-id-4 div.sk-parallel-item::after {content: \"\";width: 100%;border-bottom: 1px solid gray;flex-grow: 1;}#sk-container-id-4 div.sk-label:hover label.sk-toggleable__label {background-color: #d4ebff;}#sk-container-id-4 div.sk-serial::before {content: \"\";position: absolute;border-left: 1px solid gray;box-sizing: border-box;top: 0;bottom: 0;left: 50%;z-index: 0;}#sk-container-id-4 div.sk-serial {display: flex;flex-direction: column;align-items: center;background-color: white;padding-right: 0.2em;padding-left: 0.2em;position: relative;}#sk-container-id-4 div.sk-item {position: relative;z-index: 1;}#sk-container-id-4 div.sk-parallel {display: flex;align-items: stretch;justify-content: center;background-color: white;position: relative;}#sk-container-id-4 div.sk-item::before, #sk-container-id-4 div.sk-parallel-item::before {content: \"\";position: absolute;border-left: 1px solid gray;box-sizing: border-box;top: 0;bottom: 0;left: 50%;z-index: -1;}#sk-container-id-4 div.sk-parallel-item {display: flex;flex-direction: column;z-index: 1;position: relative;background-color: white;}#sk-container-id-4 div.sk-parallel-item:first-child::after {align-self: flex-end;width: 50%;}#sk-container-id-4 div.sk-parallel-item:last-child::after {align-self: flex-start;width: 50%;}#sk-container-id-4 div.sk-parallel-item:only-child::after {width: 0;}#sk-container-id-4 div.sk-dashed-wrapped {border: 1px dashed gray;margin: 0 0.4em 0.5em 0.4em;box-sizing: border-box;padding-bottom: 0.4em;background-color: white;}#sk-container-id-4 div.sk-label label {font-family: monospace;font-weight: bold;display: inline-block;line-height: 1.2em;}#sk-container-id-4 div.sk-label-container {text-align: center;}#sk-container-id-4 div.sk-container {/* jupyter's `normalize.less` sets `[hidden] { display: none; }` but bootstrap.min.css set `[hidden] { display: none !important; }` so we also need the `!important` here to be able to override the default hidden behavior on the sphinx rendered scikit-learn.org. See: https://github.com/scikit-learn/scikit-learn/issues/21755 */display: inline-block !important;position: relative;}#sk-container-id-4 div.sk-text-repr-fallback {display: none;}</style><div id=\"sk-container-id-4\" class=\"sk-top-container\"><div class=\"sk-text-repr-fallback\"><pre>LinearSVC()</pre><b>In a Jupyter environment, please rerun this cell to show the HTML representation or trust the notebook. <br />On GitHub, the HTML representation is unable to render, please try loading this page with nbviewer.org.</b></div><div class=\"sk-container\" hidden><div class=\"sk-item\"><div class=\"sk-estimator sk-toggleable\"><input class=\"sk-toggleable__control sk-hidden--visually\" id=\"sk-estimator-id-4\" type=\"checkbox\" checked><label for=\"sk-estimator-id-4\" class=\"sk-toggleable__label sk-toggleable__label-arrow\">LinearSVC</label><div class=\"sk-toggleable__content\"><pre>LinearSVC()</pre></div></div></div></div></div>"
      ],
      "text/plain": [
       "LinearSVC()"
      ]
     },
     "execution_count": 28,
     "metadata": {},
     "output_type": "execute_result"
    }
   ],
   "source": [
    "model = svm.LinearSVC()\n",
    "model.fit(train_data[\"X\"], train_data[\"y\"])"
   ]
  },
  {
   "cell_type": "code",
   "execution_count": 29,
   "metadata": {},
   "outputs": [],
   "source": [
    "val_data = {\n",
    "    \"X\": [extract_features(item) for _, item in val_df.iterrows()],\n",
    "    \"y\": val_df[\"answer\"],\n",
    "}"
   ]
  },
  {
   "cell_type": "code",
   "execution_count": 30,
   "metadata": {},
   "outputs": [
    {
     "data": {
      "text/plain": [
       "0.9345794392523364"
      ]
     },
     "execution_count": 30,
     "metadata": {},
     "output_type": "execute_result"
    }
   ],
   "source": [
    "model.score(val_data[\"X\"], val_data[\"y\"])"
   ]
  },
  {
   "cell_type": "code",
   "execution_count": 31,
   "metadata": {},
   "outputs": [
    {
     "data": {
      "text/plain": [
       "0.9283489096573209"
      ]
     },
     "execution_count": 31,
     "metadata": {},
     "output_type": "execute_result"
    }
   ],
   "source": [
    "model.score(train_data[\"X\"], train_data[\"y\"])"
   ]
  },
  {
   "cell_type": "code",
   "execution_count": 32,
   "metadata": {},
   "outputs": [
    {
     "name": "stdout",
     "output_type": "stream",
     "text": [
      "Creating model directory /data/pufanyi/project/SC4000/assets\n",
      "Saving model to /data/pufanyi/project/SC4000/assets/model_selection.pkl\n"
     ]
    }
   ],
   "source": [
    "import pickle\n",
    "from pathlib import Path\n",
    "\n",
    "model_path = Path(\"../../assets/\")\n",
    "\n",
    "print(\"Creating model directory\", model_path.resolve().absolute())\n",
    "\n",
    "model_path.mkdir(parents=True, exist_ok=True)\n",
    "\n",
    "path = model_path / \"model_selection.pkl\"\n",
    "\n",
    "print(\"Saving model to\", path.resolve().absolute())\n",
    "\n",
    "with open(path, \"wb\") as f:\n",
    "    pickle.dump(model, f)"
   ]
  },
  {
   "cell_type": "code",
   "execution_count": 33,
   "metadata": {},
   "outputs": [],
   "source": [
    "import pickle\n",
    "\n",
    "with open(path, \"rb\") as f:\n",
    "    model = pickle.load(f)"
   ]
  },
  {
   "cell_type": "code",
   "execution_count": 34,
   "metadata": {},
   "outputs": [
    {
     "data": {
      "text/html": [
       "<style>#sk-container-id-5 {color: black;background-color: white;}#sk-container-id-5 pre{padding: 0;}#sk-container-id-5 div.sk-toggleable {background-color: white;}#sk-container-id-5 label.sk-toggleable__label {cursor: pointer;display: block;width: 100%;margin-bottom: 0;padding: 0.3em;box-sizing: border-box;text-align: center;}#sk-container-id-5 label.sk-toggleable__label-arrow:before {content: \"▸\";float: left;margin-right: 0.25em;color: #696969;}#sk-container-id-5 label.sk-toggleable__label-arrow:hover:before {color: black;}#sk-container-id-5 div.sk-estimator:hover label.sk-toggleable__label-arrow:before {color: black;}#sk-container-id-5 div.sk-toggleable__content {max-height: 0;max-width: 0;overflow: hidden;text-align: left;background-color: #f0f8ff;}#sk-container-id-5 div.sk-toggleable__content pre {margin: 0.2em;color: black;border-radius: 0.25em;background-color: #f0f8ff;}#sk-container-id-5 input.sk-toggleable__control:checked~div.sk-toggleable__content {max-height: 200px;max-width: 100%;overflow: auto;}#sk-container-id-5 input.sk-toggleable__control:checked~label.sk-toggleable__label-arrow:before {content: \"▾\";}#sk-container-id-5 div.sk-estimator input.sk-toggleable__control:checked~label.sk-toggleable__label {background-color: #d4ebff;}#sk-container-id-5 div.sk-label input.sk-toggleable__control:checked~label.sk-toggleable__label {background-color: #d4ebff;}#sk-container-id-5 input.sk-hidden--visually {border: 0;clip: rect(1px 1px 1px 1px);clip: rect(1px, 1px, 1px, 1px);height: 1px;margin: -1px;overflow: hidden;padding: 0;position: absolute;width: 1px;}#sk-container-id-5 div.sk-estimator {font-family: monospace;background-color: #f0f8ff;border: 1px dotted black;border-radius: 0.25em;box-sizing: border-box;margin-bottom: 0.5em;}#sk-container-id-5 div.sk-estimator:hover {background-color: #d4ebff;}#sk-container-id-5 div.sk-parallel-item::after {content: \"\";width: 100%;border-bottom: 1px solid gray;flex-grow: 1;}#sk-container-id-5 div.sk-label:hover label.sk-toggleable__label {background-color: #d4ebff;}#sk-container-id-5 div.sk-serial::before {content: \"\";position: absolute;border-left: 1px solid gray;box-sizing: border-box;top: 0;bottom: 0;left: 50%;z-index: 0;}#sk-container-id-5 div.sk-serial {display: flex;flex-direction: column;align-items: center;background-color: white;padding-right: 0.2em;padding-left: 0.2em;position: relative;}#sk-container-id-5 div.sk-item {position: relative;z-index: 1;}#sk-container-id-5 div.sk-parallel {display: flex;align-items: stretch;justify-content: center;background-color: white;position: relative;}#sk-container-id-5 div.sk-item::before, #sk-container-id-5 div.sk-parallel-item::before {content: \"\";position: absolute;border-left: 1px solid gray;box-sizing: border-box;top: 0;bottom: 0;left: 50%;z-index: -1;}#sk-container-id-5 div.sk-parallel-item {display: flex;flex-direction: column;z-index: 1;position: relative;background-color: white;}#sk-container-id-5 div.sk-parallel-item:first-child::after {align-self: flex-end;width: 50%;}#sk-container-id-5 div.sk-parallel-item:last-child::after {align-self: flex-start;width: 50%;}#sk-container-id-5 div.sk-parallel-item:only-child::after {width: 0;}#sk-container-id-5 div.sk-dashed-wrapped {border: 1px dashed gray;margin: 0 0.4em 0.5em 0.4em;box-sizing: border-box;padding-bottom: 0.4em;background-color: white;}#sk-container-id-5 div.sk-label label {font-family: monospace;font-weight: bold;display: inline-block;line-height: 1.2em;}#sk-container-id-5 div.sk-label-container {text-align: center;}#sk-container-id-5 div.sk-container {/* jupyter's `normalize.less` sets `[hidden] { display: none; }` but bootstrap.min.css set `[hidden] { display: none !important; }` so we also need the `!important` here to be able to override the default hidden behavior on the sphinx rendered scikit-learn.org. See: https://github.com/scikit-learn/scikit-learn/issues/21755 */display: inline-block !important;position: relative;}#sk-container-id-5 div.sk-text-repr-fallback {display: none;}</style><div id=\"sk-container-id-5\" class=\"sk-top-container\"><div class=\"sk-text-repr-fallback\"><pre>LinearSVC()</pre><b>In a Jupyter environment, please rerun this cell to show the HTML representation or trust the notebook. <br />On GitHub, the HTML representation is unable to render, please try loading this page with nbviewer.org.</b></div><div class=\"sk-container\" hidden><div class=\"sk-item\"><div class=\"sk-estimator sk-toggleable\"><input class=\"sk-toggleable__control sk-hidden--visually\" id=\"sk-estimator-id-5\" type=\"checkbox\" checked><label for=\"sk-estimator-id-5\" class=\"sk-toggleable__label sk-toggleable__label-arrow\">LinearSVC</label><div class=\"sk-toggleable__content\"><pre>LinearSVC()</pre></div></div></div></div></div>"
      ],
      "text/plain": [
       "LinearSVC()"
      ]
     },
     "execution_count": 34,
     "metadata": {},
     "output_type": "execute_result"
    }
   ],
   "source": [
    "model"
   ]
  },
  {
   "cell_type": "code",
   "execution_count": 35,
   "metadata": {},
   "outputs": [
    {
     "data": {
      "text/plain": [
       "array([3, 4, 3, 3, 2, 3, 3, 3, 3, 3, 4, 3, 2, 3, 3, 3, 3, 3, 3, 3, 4, 3,\n",
       "       3, 3, 3, 3, 3, 3, 4, 3, 3, 4, 1, 3, 3, 3, 0, 3, 3, 1, 1, 3, 2, 3,\n",
       "       1, 3, 3, 3, 3, 3, 3, 3, 1, 4, 1, 3, 4, 2, 3, 3, 3, 3, 3, 2, 3, 4,\n",
       "       3, 2, 2, 3, 4, 0, 1, 3, 3, 3, 3, 4, 3, 1, 3, 0, 3, 3, 3, 2, 3, 3,\n",
       "       2, 3, 3, 3, 2, 3, 2, 3, 4, 4, 0, 3, 0, 2, 0, 3, 4, 2, 3])"
      ]
     },
     "execution_count": 35,
     "metadata": {},
     "output_type": "execute_result"
    }
   ],
   "source": [
    "model.predict(val_data[\"X\"])"
   ]
  },
  {
   "cell_type": "code",
   "execution_count": null,
   "metadata": {},
   "outputs": [],
   "source": []
  }
 ],
 "metadata": {
  "kernelspec": {
   "display_name": "sc4000",
   "language": "python",
   "name": "python3"
  },
  "language_info": {
   "codemirror_mode": {
    "name": "ipython",
    "version": 3
   },
   "file_extension": ".py",
   "mimetype": "text/x-python",
   "name": "python",
   "nbconvert_exporter": "python",
   "pygments_lexer": "ipython3",
   "version": "3.11.10"
  }
 },
 "nbformat": 4,
 "nbformat_minor": 2
}
