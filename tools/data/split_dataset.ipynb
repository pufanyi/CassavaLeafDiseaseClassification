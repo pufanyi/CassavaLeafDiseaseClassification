{
 "cells": [
  {
   "cell_type": "code",
   "execution_count": 14,
   "metadata": {},
   "outputs": [],
   "source": [
    "import datasets\n",
    "import pandas as pd\n",
    "\n",
    "hf_data = datasets.load_dataset(\"pufanyi/cassava-leaf-disease-classification\")"
   ]
  },
  {
   "cell_type": "code",
   "execution_count": 15,
   "metadata": {},
   "outputs": [
    {
     "data": {
      "text/html": [
       "<div>\n",
       "<style scoped>\n",
       "    .dataframe tbody tr th:only-of-type {\n",
       "        vertical-align: middle;\n",
       "    }\n",
       "\n",
       "    .dataframe tbody tr th {\n",
       "        vertical-align: top;\n",
       "    }\n",
       "\n",
       "    .dataframe thead th {\n",
       "        text-align: right;\n",
       "    }\n",
       "</style>\n",
       "<table border=\"1\" class=\"dataframe\">\n",
       "  <thead>\n",
       "    <tr style=\"text-align: right;\">\n",
       "      <th></th>\n",
       "      <th>image_id</th>\n",
       "      <th>image</th>\n",
       "      <th>label</th>\n",
       "    </tr>\n",
       "  </thead>\n",
       "  <tbody>\n",
       "    <tr>\n",
       "      <th>0</th>\n",
       "      <td>1000015157.jpg</td>\n",
       "      <td>&lt;PIL.JpegImagePlugin.JpegImageFile image mode=...</td>\n",
       "      <td>0</td>\n",
       "    </tr>\n",
       "    <tr>\n",
       "      <th>1</th>\n",
       "      <td>1000201771.jpg</td>\n",
       "      <td>&lt;PIL.JpegImagePlugin.JpegImageFile image mode=...</td>\n",
       "      <td>3</td>\n",
       "    </tr>\n",
       "    <tr>\n",
       "      <th>2</th>\n",
       "      <td>100042118.jpg</td>\n",
       "      <td>&lt;PIL.JpegImagePlugin.JpegImageFile image mode=...</td>\n",
       "      <td>1</td>\n",
       "    </tr>\n",
       "    <tr>\n",
       "      <th>3</th>\n",
       "      <td>1000723321.jpg</td>\n",
       "      <td>&lt;PIL.JpegImagePlugin.JpegImageFile image mode=...</td>\n",
       "      <td>1</td>\n",
       "    </tr>\n",
       "    <tr>\n",
       "      <th>4</th>\n",
       "      <td>1000812911.jpg</td>\n",
       "      <td>&lt;PIL.JpegImagePlugin.JpegImageFile image mode=...</td>\n",
       "      <td>3</td>\n",
       "    </tr>\n",
       "  </tbody>\n",
       "</table>\n",
       "</div>"
      ],
      "text/plain": [
       "         image_id                                              image  label\n",
       "0  1000015157.jpg  <PIL.JpegImagePlugin.JpegImageFile image mode=...      0\n",
       "1  1000201771.jpg  <PIL.JpegImagePlugin.JpegImageFile image mode=...      3\n",
       "2   100042118.jpg  <PIL.JpegImagePlugin.JpegImageFile image mode=...      1\n",
       "3  1000723321.jpg  <PIL.JpegImagePlugin.JpegImageFile image mode=...      1\n",
       "4  1000812911.jpg  <PIL.JpegImagePlugin.JpegImageFile image mode=...      3"
      ]
     },
     "execution_count": 15,
     "metadata": {},
     "output_type": "execute_result"
    }
   ],
   "source": [
    "whole_data = hf_data[\"train\"]\n",
    "df = pd.DataFrame(whole_data)\n",
    "df.head()"
   ]
  },
  {
   "cell_type": "code",
   "execution_count": 16,
   "metadata": {},
   "outputs": [
    {
     "data": {
      "text/plain": [
       "array([0, 3, 1, 2, 4])"
      ]
     },
     "execution_count": 16,
     "metadata": {},
     "output_type": "execute_result"
    }
   ],
   "source": [
    "labels = df[\"label\"].unique()\n",
    "labels"
   ]
  },
  {
   "cell_type": "code",
   "execution_count": 17,
   "metadata": {},
   "outputs": [],
   "source": [
    "data = {}\n",
    "for label in labels:\n",
    "    data[label] = df[df[\"label\"] == label]"
   ]
  },
  {
   "cell_type": "code",
   "execution_count": 18,
   "metadata": {},
   "outputs": [
    {
     "name": "stdout",
     "output_type": "stream",
     "text": [
      "Label 0: 1087 samples\n",
      "Label 3: 13158 samples\n",
      "Label 1: 2189 samples\n",
      "Label 2: 2386 samples\n",
      "Label 4: 2577 samples\n"
     ]
    }
   ],
   "source": [
    "for label, df in data.items():\n",
    "    print(f\"Label {label}: {len(df)} samples\")"
   ]
  },
  {
   "cell_type": "code",
   "execution_count": 19,
   "metadata": {},
   "outputs": [],
   "source": [
    "val = []\n",
    "train = []\n",
    "for label in labels:\n",
    "    val.append(data[label].sample(100))\n",
    "    train.append(data[label].drop(val[-1].index))"
   ]
  },
  {
   "cell_type": "code",
   "execution_count": 20,
   "metadata": {},
   "outputs": [],
   "source": [
    "val_df = pd.concat(val)\n",
    "train_df = pd.concat(train)"
   ]
  },
  {
   "cell_type": "code",
   "execution_count": 21,
   "metadata": {},
   "outputs": [
    {
     "data": {
      "text/plain": [
       "(500, 20897)"
      ]
     },
     "execution_count": 21,
     "metadata": {},
     "output_type": "execute_result"
    }
   ],
   "source": [
    "len(val_df), len(train_df)"
   ]
  },
  {
   "cell_type": "code",
   "execution_count": 26,
   "metadata": {},
   "outputs": [
    {
     "name": "stderr",
     "output_type": "stream",
     "text": [
      "Generating train split: 20897 examples [00:39, 523.51 examples/s]\n",
      "Generating train split: 500 examples [00:00, 500.38 examples/s]\n"
     ]
    }
   ],
   "source": [
    "def gen(df: pd.DataFrame):\n",
    "    for i, row in df.iterrows():\n",
    "        yield row.to_dict()\n",
    "\n",
    "\n",
    "final_data = {\n",
    "    \"train\": datasets.Dataset.from_generator(\n",
    "        gen, gen_kwargs={\"df\": train_df}, features=hf_data[\"train\"].features\n",
    "    ),\n",
    "    \"validation\": datasets.Dataset.from_generator(\n",
    "        gen, gen_kwargs={\"df\": val_df}, features=hf_data[\"train\"].features\n",
    "    ),\n",
    "    \"test\": hf_data[\"test\"],\n",
    "}"
   ]
  },
  {
   "cell_type": "code",
   "execution_count": 27,
   "metadata": {},
   "outputs": [
    {
     "data": {
      "text/plain": [
       "{'train': Dataset({\n",
       "     features: ['image_id', 'image', 'label'],\n",
       "     num_rows: 20897\n",
       " }),\n",
       " 'validation': Dataset({\n",
       "     features: ['image_id', 'image', 'label'],\n",
       "     num_rows: 500\n",
       " }),\n",
       " 'test': Dataset({\n",
       "     features: ['image_id', 'image', 'label'],\n",
       "     num_rows: 1\n",
       " })}"
      ]
     },
     "execution_count": 27,
     "metadata": {},
     "output_type": "execute_result"
    }
   ],
   "source": [
    "final_data"
   ]
  },
  {
   "cell_type": "code",
   "execution_count": 28,
   "metadata": {},
   "outputs": [],
   "source": [
    "final_data = datasets.DatasetDict(final_data)"
   ]
  },
  {
   "cell_type": "code",
   "execution_count": 29,
   "metadata": {},
   "outputs": [
    {
     "name": "stderr",
     "output_type": "stream",
     "text": [
      "Map: 100%|██████████| 3483/3483 [00:01<00:00, 3421.42 examples/s]s]\n",
      "Creating parquet from Arrow format: 100%|██████████| 35/35 [00:00<00:00, 39.76ba/s]\n",
      "Map: 100%|██████████| 3483/3483 [00:01<00:00, 2590.09 examples/s]23.40s/it]\n",
      "Creating parquet from Arrow format: 100%|██████████| 35/35 [00:00<00:00, 37.78ba/s]\n",
      "Map: 100%|██████████| 3483/3483 [00:01<00:00, 2058.06 examples/s]21.96s/it]\n",
      "Creating parquet from Arrow format: 100%|██████████| 35/35 [00:01<00:00, 29.64ba/s]\n",
      "Map: 100%|██████████| 3483/3483 [00:01<00:00, 2109.15 examples/s]22.45s/it]\n",
      "Creating parquet from Arrow format: 100%|██████████| 35/35 [00:01<00:00, 30.03ba/s]\n",
      "Map: 100%|██████████| 3483/3483 [00:01<00:00, 2268.34 examples/s]22.53s/it]\n",
      "Creating parquet from Arrow format: 100%|██████████| 35/35 [00:01<00:00, 34.28ba/s]\n",
      "Map: 100%|██████████| 3482/3482 [00:01<00:00, 2310.77 examples/s]21.65s/it]\n",
      "Creating parquet from Arrow format: 100%|██████████| 35/35 [00:01<00:00, 33.23ba/s]\n",
      "Uploading the dataset shards: 100%|██████████| 6/6 [02:09<00:00, 21.65s/it]\n",
      "Map: 100%|██████████| 500/500 [00:00<00:00, 3190.44 examples/s]t/s]\n",
      "Creating parquet from Arrow format: 100%|██████████| 5/5 [00:00<00:00, 27.47ba/s]\n",
      "Uploading the dataset shards: 100%|██████████| 1/1 [00:03<00:00,  3.84s/it]\n",
      "Map: 100%|██████████| 1/1 [00:00<00:00, 112.74 examples/s]?, ?it/s]\n",
      "Creating parquet from Arrow format: 100%|██████████| 1/1 [00:00<00:00, 362.64ba/s]\n",
      "Uploading the dataset shards: 100%|██████████| 1/1 [00:01<00:00,  1.34s/it]\n"
     ]
    },
    {
     "data": {
      "text/plain": [
       "CommitInfo(commit_url='https://huggingface.co/datasets/pufanyi/cassava-leaf-disease-classification/commit/eaa8e90768df4bdaa011f78858fe83886d8c3dee', commit_message='Upload dataset', commit_description='', oid='eaa8e90768df4bdaa011f78858fe83886d8c3dee', pr_url=None, repo_url=RepoUrl('https://huggingface.co/datasets/pufanyi/cassava-leaf-disease-classification', endpoint='https://huggingface.co', repo_type='dataset', repo_id='pufanyi/cassava-leaf-disease-classification'), pr_revision=None, pr_num=None)"
      ]
     },
     "execution_count": 29,
     "metadata": {},
     "output_type": "execute_result"
    }
   ],
   "source": [
    "final_data.push_to_hub(\"pufanyi/cassava-leaf-disease-classification\")"
   ]
  },
  {
   "cell_type": "code",
   "execution_count": null,
   "metadata": {},
   "outputs": [],
   "source": []
  }
 ],
 "metadata": {
  "kernelspec": {
   "display_name": "SC4000",
   "language": "python",
   "name": "python3"
  },
  "language_info": {
   "codemirror_mode": {
    "name": "ipython",
    "version": 3
   },
   "file_extension": ".py",
   "mimetype": "text/x-python",
   "name": "python",
   "nbconvert_exporter": "python",
   "pygments_lexer": "ipython3",
   "version": "3.12.5"
  }
 },
 "nbformat": 4,
 "nbformat_minor": 2
}
