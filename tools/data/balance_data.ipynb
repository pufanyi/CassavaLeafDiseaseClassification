{
 "cells": [
  {
   "cell_type": "code",
   "execution_count": 1,
   "metadata": {},
   "outputs": [
    {
     "name": "stderr",
     "output_type": "stream",
     "text": [
      "/data/pufanyi/anaconda3/anacondabin/envs/SC4000/lib/python3.12/site-packages/tqdm/auto.py:21: TqdmWarning: IProgress not found. Please update jupyter and ipywidgets. See https://ipywidgets.readthedocs.io/en/stable/user_install.html\n",
      "  from .autonotebook import tqdm as notebook_tqdm\n"
     ]
    }
   ],
   "source": [
    "from datasets import Dataset, load_dataset"
   ]
  },
  {
   "cell_type": "code",
   "execution_count": 2,
   "metadata": {},
   "outputs": [],
   "source": [
    "data = load_dataset(\"pufanyi/cassava-leaf-disease-classification\")"
   ]
  },
  {
   "cell_type": "code",
   "execution_count": 3,
   "metadata": {},
   "outputs": [
    {
     "data": {
      "text/plain": [
       "DatasetDict({\n",
       "    train: Dataset({\n",
       "        features: ['image_id', 'image', 'label'],\n",
       "        num_rows: 20897\n",
       "    })\n",
       "    validation: Dataset({\n",
       "        features: ['image_id', 'image', 'label'],\n",
       "        num_rows: 500\n",
       "    })\n",
       "    test: Dataset({\n",
       "        features: ['image_id', 'image', 'label'],\n",
       "        num_rows: 1\n",
       "    })\n",
       "})"
      ]
     },
     "execution_count": 3,
     "metadata": {},
     "output_type": "execute_result"
    }
   ],
   "source": [
    "data"
   ]
  },
  {
   "cell_type": "code",
   "execution_count": 4,
   "metadata": {},
   "outputs": [
    {
     "name": "stderr",
     "output_type": "stream",
     "text": [
      "Map: 100%|██████████| 3483/3483 [00:01<00:00, 2687.13 examples/s]s]\n",
      "Creating parquet from Arrow format: 100%|██████████| 35/35 [00:01<00:00, 29.75ba/s]\n",
      "Map: 100%|██████████| 3483/3483 [00:01<00:00, 2583.19 examples/s] 3.36s/it]\n",
      "Creating parquet from Arrow format: 100%|██████████| 35/35 [00:01<00:00, 25.94ba/s]\n",
      "Map: 100%|██████████| 3483/3483 [00:01<00:00, 3066.56 examples/s] 3.47s/it]\n",
      "Creating parquet from Arrow format: 100%|██████████| 35/35 [00:00<00:00, 37.10ba/s]\n",
      "Map: 100%|██████████| 3483/3483 [00:01<00:00, 2756.09 examples/s] 3.21s/it]\n",
      "Creating parquet from Arrow format: 100%|██████████| 35/35 [00:00<00:00, 35.50ba/s]\n",
      "Map: 100%|██████████| 3483/3483 [00:00<00:00, 3638.99 examples/s] 3.16s/it]\n",
      "Creating parquet from Arrow format: 100%|██████████| 35/35 [00:00<00:00, 42.21ba/s]\n",
      "Map: 100%|██████████| 3482/3482 [00:01<00:00, 3158.34 examples/s] 2.97s/it]\n",
      "Creating parquet from Arrow format: 100%|██████████| 35/35 [00:00<00:00, 37.81ba/s]\n",
      "Uploading the dataset shards: 100%|██████████| 6/6 [00:18<00:00,  3.06s/it]\n",
      "Map: 100%|██████████| 500/500 [00:00<00:00, 4611.12 examples/s]t/s]\n",
      "Creating parquet from Arrow format: 100%|██████████| 5/5 [00:00<00:00, 33.63ba/s]\n",
      "Uploading the dataset shards: 100%|██████████| 1/1 [00:00<00:00,  1.24it/s]\n",
      "Map: 100%|██████████| 1/1 [00:00<00:00, 270.64 examples/s]?, ?it/s]\n",
      "Creating parquet from Arrow format: 100%|██████████| 1/1 [00:00<00:00, 874.54ba/s]\n",
      "Uploading the dataset shards: 100%|██████████| 1/1 [00:00<00:00,  1.95it/s]\n"
     ]
    },
    {
     "data": {
      "text/plain": [
       "CommitInfo(commit_url='https://huggingface.co/datasets/pufanyi/cassava-leaf-disease-classification/commit/5eb1d13b58738deb89856984a02a3688225af777', commit_message='Upload dataset', commit_description='', oid='5eb1d13b58738deb89856984a02a3688225af777', pr_url=None, repo_url=RepoUrl('https://huggingface.co/datasets/pufanyi/cassava-leaf-disease-classification', endpoint='https://huggingface.co', repo_type='dataset', repo_id='pufanyi/cassava-leaf-disease-classification'), pr_revision=None, pr_num=None)"
      ]
     },
     "execution_count": 4,
     "metadata": {},
     "output_type": "execute_result"
    }
   ],
   "source": [
    "data.push_to_hub(\"pufanyi/cassava-leaf-disease-classification\", \"full\")"
   ]
  },
  {
   "cell_type": "code",
   "execution_count": 5,
   "metadata": {},
   "outputs": [
    {
     "data": {
      "text/plain": [
       "Dataset({\n",
       "    features: ['image_id', 'image', 'label'],\n",
       "    num_rows: 20897\n",
       "})"
      ]
     },
     "execution_count": 5,
     "metadata": {},
     "output_type": "execute_result"
    }
   ],
   "source": [
    "train_data = data[\"train\"]\n",
    "train_data"
   ]
  },
  {
   "cell_type": "code",
   "execution_count": 6,
   "metadata": {},
   "outputs": [],
   "source": [
    "train_df = train_data.to_pandas()"
   ]
  },
  {
   "cell_type": "code",
   "execution_count": 7,
   "metadata": {},
   "outputs": [
    {
     "data": {
      "text/plain": [
       "array([0, 3, 1, 2, 4])"
      ]
     },
     "execution_count": 7,
     "metadata": {},
     "output_type": "execute_result"
    }
   ],
   "source": [
    "labels = train_df[\"label\"].unique()\n",
    "labels"
   ]
  },
  {
   "cell_type": "code",
   "execution_count": 8,
   "metadata": {},
   "outputs": [],
   "source": [
    "df_label = {}\n",
    "for label in labels:\n",
    "    df_label[label] = train_df[train_df[\"label\"] == label]"
   ]
  },
  {
   "cell_type": "code",
   "execution_count": 9,
   "metadata": {},
   "outputs": [
    {
     "name": "stdout",
     "output_type": "stream",
     "text": [
      "0: 987\n",
      "3: 13058\n",
      "1: 2089\n",
      "2: 2286\n",
      "4: 2477\n"
     ]
    }
   ],
   "source": [
    "for label, df in df_label.items():\n",
    "    print(f\"{label}: {len(df)}\")"
   ]
  },
  {
   "cell_type": "code",
   "execution_count": 10,
   "metadata": {},
   "outputs": [
    {
     "data": {
      "text/plain": [
       "987"
      ]
     },
     "execution_count": 10,
     "metadata": {},
     "output_type": "execute_result"
    }
   ],
   "source": [
    "min_len = min([len(df) for df in df_label.values()])\n",
    "min_len"
   ]
  },
  {
   "cell_type": "code",
   "execution_count": 11,
   "metadata": {},
   "outputs": [],
   "source": [
    "import pandas as pd\n",
    "\n",
    "balanced_df = pd.concat([df.sample(min_len) for df in df_label.values()])"
   ]
  },
  {
   "cell_type": "code",
   "execution_count": 14,
   "metadata": {},
   "outputs": [],
   "source": [
    "balanced_data_train = Dataset.from_pandas(\n",
    "    balanced_df, features=train_data.features, preserve_index=False\n",
    ")"
   ]
  },
  {
   "cell_type": "code",
   "execution_count": 15,
   "metadata": {},
   "outputs": [],
   "source": [
    "from datasets import DatasetDict\n",
    "\n",
    "balanced_data = DatasetDict(\n",
    "    {\n",
    "        \"train\": balanced_data_train,\n",
    "        \"validation\": data[\"validation\"],\n",
    "        \"test\": data[\"test\"],\n",
    "    }\n",
    ")"
   ]
  },
  {
   "cell_type": "code",
   "execution_count": 16,
   "metadata": {},
   "outputs": [
    {
     "name": "stderr",
     "output_type": "stream",
     "text": [
      "Map: 100%|██████████| 2468/2468 [00:00<00:00, 3520.91 examples/s]s]\n",
      "Creating parquet from Arrow format: 100%|██████████| 25/25 [00:00<00:00, 40.78ba/s]\n",
      "Map: 100%|██████████| 2467/2467 [00:00<00:00, 3272.35 examples/s]23.64s/it]\n",
      "Creating parquet from Arrow format: 100%|██████████| 25/25 [00:00<00:00, 39.23ba/s]\n",
      "Uploading the dataset shards: 100%|██████████| 2/2 [00:39<00:00, 19.61s/it]\n",
      "Map: 100%|██████████| 500/500 [00:00<00:00, 3876.15 examples/s]t/s]\n",
      "Creating parquet from Arrow format: 100%|██████████| 5/5 [00:00<00:00, 40.39ba/s]\n",
      "Uploading the dataset shards: 100%|██████████| 1/1 [00:00<00:00,  1.29it/s]\n",
      "Map: 100%|██████████| 1/1 [00:00<00:00, 240.18 examples/s]?, ?it/s]\n",
      "Creating parquet from Arrow format: 100%|██████████| 1/1 [00:00<00:00, 889.57ba/s]\n",
      "Uploading the dataset shards: 100%|██████████| 1/1 [00:00<00:00,  1.90it/s]\n"
     ]
    },
    {
     "data": {
      "text/plain": [
       "CommitInfo(commit_url='https://huggingface.co/datasets/pufanyi/cassava-leaf-disease-classification/commit/7df3dd2c9662724728fb81f13e4942ee5493c650', commit_message='Upload dataset', commit_description='', oid='7df3dd2c9662724728fb81f13e4942ee5493c650', pr_url=None, repo_url=RepoUrl('https://huggingface.co/datasets/pufanyi/cassava-leaf-disease-classification', endpoint='https://huggingface.co', repo_type='dataset', repo_id='pufanyi/cassava-leaf-disease-classification'), pr_revision=None, pr_num=None)"
      ]
     },
     "execution_count": 16,
     "metadata": {},
     "output_type": "execute_result"
    }
   ],
   "source": [
    "balanced_data.push_to_hub(\"pufanyi/cassava-leaf-disease-classification\", \"balanced\")"
   ]
  },
  {
   "cell_type": "code",
   "execution_count": null,
   "metadata": {},
   "outputs": [],
   "source": []
  }
 ],
 "metadata": {
  "kernelspec": {
   "display_name": "SC4000",
   "language": "python",
   "name": "python3"
  },
  "language_info": {
   "codemirror_mode": {
    "name": "ipython",
    "version": 3
   },
   "file_extension": ".py",
   "mimetype": "text/x-python",
   "name": "python",
   "nbconvert_exporter": "python",
   "pygments_lexer": "ipython3",
   "version": "3.12.5"
  }
 },
 "nbformat": 4,
 "nbformat_minor": 2
}
