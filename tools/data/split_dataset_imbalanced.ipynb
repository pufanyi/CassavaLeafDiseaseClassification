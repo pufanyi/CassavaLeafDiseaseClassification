{
 "cells": [
  {
   "cell_type": "code",
   "execution_count": 24,
   "metadata": {},
   "outputs": [],
   "source": [
    "import datasets\n",
    "import pandas as pd\n",
    "\n",
    "hf_data = datasets.load_dataset(\"pufanyi/cassava-leaf-disease-classification\", \"full\")"
   ]
  },
  {
   "cell_type": "code",
   "execution_count": 25,
   "metadata": {},
   "outputs": [],
   "source": [
    "train_df = hf_data[\"train\"].to_pandas()\n",
    "val_df = hf_data[\"validation\"].to_pandas()\n",
    "df = pd.concat([train_df, val_df])"
   ]
  },
  {
   "cell_type": "code",
   "execution_count": 26,
   "metadata": {},
   "outputs": [
    {
     "data": {
      "text/plain": [
       "21397"
      ]
     },
     "execution_count": 26,
     "metadata": {},
     "output_type": "execute_result"
    }
   ],
   "source": [
    "len(df)"
   ]
  },
  {
   "cell_type": "code",
   "execution_count": 27,
   "metadata": {},
   "outputs": [
    {
     "data": {
      "text/plain": [
       "array([0, 3, 1, 2, 4])"
      ]
     },
     "execution_count": 27,
     "metadata": {},
     "output_type": "execute_result"
    }
   ],
   "source": [
    "labels = df[\"label\"].unique()\n",
    "labels"
   ]
  },
  {
   "cell_type": "code",
   "execution_count": 28,
   "metadata": {},
   "outputs": [],
   "source": [
    "data = {}\n",
    "for label in labels:\n",
    "    data[label] = df[df[\"label\"] == label]"
   ]
  },
  {
   "cell_type": "code",
   "execution_count": 29,
   "metadata": {},
   "outputs": [
    {
     "name": "stdout",
     "output_type": "stream",
     "text": [
      "Label 0: 1087 samples\n",
      "Label 3: 13158 samples\n",
      "Label 1: 2189 samples\n",
      "Label 2: 2386 samples\n",
      "Label 4: 2577 samples\n"
     ]
    }
   ],
   "source": [
    "for label, d in data.items():\n",
    "    print(f\"Label {label}: {len(d)} samples\")"
   ]
  },
  {
   "cell_type": "code",
   "execution_count": 43,
   "metadata": {},
   "outputs": [],
   "source": [
    "from sklearn.model_selection import train_test_split\n",
    "\n",
    "final_df_train, final_df_val = train_test_split(df, test_size=0.05, random_state=42)"
   ]
  },
  {
   "cell_type": "code",
   "execution_count": 44,
   "metadata": {},
   "outputs": [
    {
     "data": {
      "text/plain": [
       "(20327, 1070)"
      ]
     },
     "execution_count": 44,
     "metadata": {},
     "output_type": "execute_result"
    }
   ],
   "source": [
    "len(final_df_train), len(final_df_val)"
   ]
  },
  {
   "cell_type": "code",
   "execution_count": 46,
   "metadata": {},
   "outputs": [
    {
     "name": "stderr",
     "output_type": "stream",
     "text": [
      "Generating train split: 20327 examples [00:04, 4858.34 examples/s]\n",
      "Generating train split: 1070 examples [00:00, 4196.34 examples/s]\n"
     ]
    }
   ],
   "source": [
    "def gen(df: pd.DataFrame):\n",
    "    for _, row in df.iterrows():\n",
    "        yield row.to_dict()\n",
    "\n",
    "\n",
    "final_data = {\n",
    "    \"train\": datasets.Dataset.from_generator(\n",
    "        gen, gen_kwargs={\"df\": final_df_train}, features=hf_data[\"train\"].features\n",
    "    ),\n",
    "    \"validation\": datasets.Dataset.from_generator(\n",
    "        gen, gen_kwargs={\"df\": final_df_val}, features=hf_data[\"train\"].features\n",
    "    ),\n",
    "    \"test\": hf_data[\"test\"],\n",
    "}"
   ]
  },
  {
   "cell_type": "code",
   "execution_count": 47,
   "metadata": {},
   "outputs": [
    {
     "data": {
      "text/plain": [
       "{'train': Dataset({\n",
       "     features: ['image_id', 'image', 'label'],\n",
       "     num_rows: 20327\n",
       " }),\n",
       " 'validation': Dataset({\n",
       "     features: ['image_id', 'image', 'label'],\n",
       "     num_rows: 1070\n",
       " }),\n",
       " 'test': Dataset({\n",
       "     features: ['image_id', 'image', 'label'],\n",
       "     num_rows: 1\n",
       " })}"
      ]
     },
     "execution_count": 47,
     "metadata": {},
     "output_type": "execute_result"
    }
   ],
   "source": [
    "final_data"
   ]
  },
  {
   "cell_type": "code",
   "execution_count": 48,
   "metadata": {},
   "outputs": [],
   "source": [
    "final_data = datasets.DatasetDict(final_data)"
   ]
  },
  {
   "cell_type": "code",
   "execution_count": 49,
   "metadata": {},
   "outputs": [
    {
     "name": "stderr",
     "output_type": "stream",
     "text": [
      "Map: 100%|██████████| 4066/4066 [00:01<00:00, 3499.41 examples/s]s]\n",
      "Creating parquet from Arrow format: 100%|██████████| 41/41 [00:00<00:00, 61.63ba/s]\n",
      "Map: 100%|██████████| 4066/4066 [00:01<00:00, 3381.06 examples/s]31.74s/it]\n",
      "Creating parquet from Arrow format: 100%|██████████| 41/41 [00:00<00:00, 62.99ba/s]\n",
      "Map: 100%|██████████| 4065/4065 [00:01<00:00, 3327.36 examples/s]27.97s/it]\n",
      "Creating parquet from Arrow format: 100%|██████████| 41/41 [00:00<00:00, 52.86ba/s]\n",
      "Map: 100%|██████████| 4065/4065 [00:01<00:00, 3319.88 examples/s]26.27s/it]\n",
      "Creating parquet from Arrow format: 100%|██████████| 41/41 [00:00<00:00, 57.85ba/s]\n",
      "Map: 100%|██████████| 4065/4065 [00:01<00:00, 3623.94 examples/s]24.56s/it]\n",
      "Creating parquet from Arrow format: 100%|██████████| 41/41 [00:00<00:00, 58.56ba/s]\n",
      "Uploading the dataset shards: 100%|██████████| 5/5 [02:07<00:00, 25.44s/it]\n",
      "Map: 100%|██████████| 1070/1070 [00:00<00:00, 8922.05 examples/s]s]\n",
      "Creating parquet from Arrow format: 100%|██████████| 11/11 [00:00<00:00, 66.93ba/s]\n",
      "Uploading the dataset shards: 100%|██████████| 1/1 [00:06<00:00,  6.39s/it]\n",
      "Map: 100%|██████████| 1/1 [00:00<00:00, 113.01 examples/s]?, ?it/s]\n",
      "Creating parquet from Arrow format: 100%|██████████| 1/1 [00:00<00:00, 332.38ba/s]\n",
      "Uploading the dataset shards: 100%|██████████| 1/1 [00:00<00:00,  1.91it/s]\n"
     ]
    },
    {
     "data": {
      "text/plain": [
       "CommitInfo(commit_url='https://huggingface.co/datasets/pufanyi/cassava-leaf-disease-classification/commit/c8b14bae522158c357a845544ad2ba510774d78b', commit_message='Upload dataset', commit_description='', oid='c8b14bae522158c357a845544ad2ba510774d78b', pr_url=None, repo_url=RepoUrl('https://huggingface.co/datasets/pufanyi/cassava-leaf-disease-classification', endpoint='https://huggingface.co', repo_type='dataset', repo_id='pufanyi/cassava-leaf-disease-classification'), pr_revision=None, pr_num=None)"
      ]
     },
     "execution_count": 49,
     "metadata": {},
     "output_type": "execute_result"
    }
   ],
   "source": [
    "final_data.push_to_hub(\"pufanyi/cassava-leaf-disease-classification\", \"full\")"
   ]
  },
  {
   "cell_type": "code",
   "execution_count": null,
   "metadata": {},
   "outputs": [],
   "source": []
  }
 ],
 "metadata": {
  "kernelspec": {
   "display_name": "sc4000",
   "language": "python",
   "name": "python3"
  },
  "language_info": {
   "codemirror_mode": {
    "name": "ipython",
    "version": 3
   },
   "file_extension": ".py",
   "mimetype": "text/x-python",
   "name": "python",
   "nbconvert_exporter": "python",
   "pygments_lexer": "ipython3",
   "version": "3.11.10"
  }
 },
 "nbformat": 4,
 "nbformat_minor": 2
}
