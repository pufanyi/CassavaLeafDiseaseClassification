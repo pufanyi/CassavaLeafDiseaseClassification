{
 "cells": [
  {
   "cell_type": "code",
   "execution_count": 1,
   "metadata": {},
   "outputs": [
    {
     "name": "stderr",
     "output_type": "stream",
     "text": [
      "/data/pufanyi/anaconda3/conda/envs/sc4000/lib/python3.11/site-packages/tqdm/auto.py:21: TqdmWarning: IProgress not found. Please update jupyter and ipywidgets. See https://ipywidgets.readthedocs.io/en/stable/user_install.html\n",
      "  from .autonotebook import tqdm as notebook_tqdm\n"
     ]
    }
   ],
   "source": [
    "import datasets\n",
    "import pandas as pd\n",
    "\n",
    "hf_data = datasets.load_dataset(\"pufanyi/cassava-leaf-disease-classification\", \"full\")"
   ]
  },
  {
   "cell_type": "code",
   "execution_count": 2,
   "metadata": {},
   "outputs": [],
   "source": [
    "train_df = hf_data[\"train\"].to_pandas()\n",
    "val_df = hf_data[\"validation\"].to_pandas()\n",
    "df = pd.concat([train_df, val_df])"
   ]
  },
  {
   "cell_type": "code",
   "execution_count": 3,
   "metadata": {},
   "outputs": [
    {
     "data": {
      "text/plain": [
       "21397"
      ]
     },
     "execution_count": 3,
     "metadata": {},
     "output_type": "execute_result"
    }
   ],
   "source": [
    "len(df)"
   ]
  },
  {
   "cell_type": "code",
   "execution_count": 4,
   "metadata": {},
   "outputs": [
    {
     "data": {
      "text/plain": [
       "array([3, 1, 2, 4, 0])"
      ]
     },
     "execution_count": 4,
     "metadata": {},
     "output_type": "execute_result"
    }
   ],
   "source": [
    "labels = df[\"label\"].unique()\n",
    "labels"
   ]
  },
  {
   "cell_type": "code",
   "execution_count": 5,
   "metadata": {},
   "outputs": [],
   "source": [
    "data = {}\n",
    "for label in labels:\n",
    "    data[label] = df[df[\"label\"] == label]"
   ]
  },
  {
   "cell_type": "code",
   "execution_count": 6,
   "metadata": {},
   "outputs": [
    {
     "name": "stdout",
     "output_type": "stream",
     "text": [
      "Label 3: 13158 samples\n",
      "Label 1: 2189 samples\n",
      "Label 2: 2386 samples\n",
      "Label 4: 2577 samples\n",
      "Label 0: 1087 samples\n"
     ]
    }
   ],
   "source": [
    "for label, d in data.items():\n",
    "    print(f\"Label {label}: {len(d)} samples\")"
   ]
  },
  {
   "cell_type": "code",
   "execution_count": 7,
   "metadata": {},
   "outputs": [],
   "source": [
    "from sklearn.model_selection import train_test_split\n",
    "\n",
    "final_df_train, final_df_val = train_test_split(df, test_size=0.2, random_state=42)"
   ]
  },
  {
   "cell_type": "code",
   "execution_count": 8,
   "metadata": {},
   "outputs": [
    {
     "data": {
      "text/plain": [
       "(17117, 4280)"
      ]
     },
     "execution_count": 8,
     "metadata": {},
     "output_type": "execute_result"
    }
   ],
   "source": [
    "len(final_df_train), len(final_df_val)"
   ]
  },
  {
   "cell_type": "code",
   "execution_count": 9,
   "metadata": {},
   "outputs": [
    {
     "name": "stderr",
     "output_type": "stream",
     "text": [
      "Generating train split: 17117 examples [00:07, 2413.56 examples/s]\n",
      "Generating train split: 4280 examples [00:01, 2867.51 examples/s]\n"
     ]
    }
   ],
   "source": [
    "def gen(df: pd.DataFrame):\n",
    "    for _, row in df.iterrows():\n",
    "        yield row.to_dict()\n",
    "\n",
    "\n",
    "final_data = {\n",
    "    \"train\": datasets.Dataset.from_generator(\n",
    "        gen, gen_kwargs={\"df\": final_df_train}, features=hf_data[\"train\"].features\n",
    "    ),\n",
    "    \"validation\": datasets.Dataset.from_generator(\n",
    "        gen, gen_kwargs={\"df\": final_df_val}, features=hf_data[\"train\"].features\n",
    "    ),\n",
    "    \"test\": hf_data[\"test\"],\n",
    "}"
   ]
  },
  {
   "cell_type": "code",
   "execution_count": 10,
   "metadata": {},
   "outputs": [
    {
     "data": {
      "text/plain": [
       "{'train': Dataset({\n",
       "     features: ['image_id', 'image', 'label'],\n",
       "     num_rows: 17117\n",
       " }),\n",
       " 'validation': Dataset({\n",
       "     features: ['image_id', 'image', 'label'],\n",
       "     num_rows: 4280\n",
       " }),\n",
       " 'test': Dataset({\n",
       "     features: ['image_id', 'image', 'label'],\n",
       "     num_rows: 1\n",
       " })}"
      ]
     },
     "execution_count": 10,
     "metadata": {},
     "output_type": "execute_result"
    }
   ],
   "source": [
    "final_data"
   ]
  },
  {
   "cell_type": "code",
   "execution_count": 11,
   "metadata": {},
   "outputs": [],
   "source": [
    "final_data = datasets.DatasetDict(final_data)"
   ]
  },
  {
   "cell_type": "code",
   "execution_count": 12,
   "metadata": {},
   "outputs": [
    {
     "name": "stderr",
     "output_type": "stream",
     "text": [
      "Map: 100%|██████████| 3424/3424 [00:01<00:00, 2693.15 examples/s]s]\n",
      "Creating parquet from Arrow format: 100%|██████████| 35/35 [00:01<00:00, 31.55ba/s]\n",
      "Map: 100%|██████████| 3424/3424 [00:01<00:00, 2397.87 examples/s]24.61s/it]\n",
      "Creating parquet from Arrow format: 100%|██████████| 35/35 [00:01<00:00, 32.78ba/s]\n",
      "Map: 100%|██████████| 3423/3423 [00:01<00:00, 2405.90 examples/s]21.52s/it]\n",
      "Creating parquet from Arrow format: 100%|██████████| 35/35 [00:01<00:00, 32.11ba/s]\n",
      "Map: 100%|██████████| 3423/3423 [00:01<00:00, 2357.82 examples/s]20.69s/it]\n",
      "Creating parquet from Arrow format: 100%|██████████| 35/35 [00:01<00:00, 32.65ba/s]\n",
      "Map: 100%|██████████| 3423/3423 [00:01<00:00, 2576.16 examples/s]22.14s/it]\n",
      "Creating parquet from Arrow format: 100%|██████████| 35/35 [00:01<00:00, 32.63ba/s]\n",
      "Uploading the dataset shards: 100%|██████████| 5/5 [01:51<00:00, 22.34s/it]\n",
      "Map: 100%|██████████| 2140/2140 [00:00<00:00, 3321.77 examples/s]s]\n",
      "Creating parquet from Arrow format: 100%|██████████| 22/22 [00:00<00:00, 32.62ba/s]\n",
      "Map: 100%|██████████| 2140/2140 [00:00<00:00, 2560.36 examples/s]11.85s/it]\n",
      "Creating parquet from Arrow format: 100%|██████████| 22/22 [00:00<00:00, 32.50ba/s]\n",
      "Uploading the dataset shards: 100%|██████████| 2/2 [00:24<00:00, 12.06s/it]\n",
      "Map: 100%|██████████| 1/1 [00:00<00:00, 209.43 examples/s]?, ?it/s]\n",
      "Creating parquet from Arrow format: 100%|██████████| 1/1 [00:00<00:00, 428.34ba/s]\n",
      "Uploading the dataset shards: 100%|██████████| 1/1 [00:00<00:00,  2.01it/s]\n"
     ]
    },
    {
     "data": {
      "text/plain": [
       "CommitInfo(commit_url='https://huggingface.co/datasets/pufanyi/cassava-leaf-disease-classification/commit/f75b4f48e2ce96d25dc91c5cdf8feff478d89e54', commit_message='Upload dataset', commit_description='', oid='f75b4f48e2ce96d25dc91c5cdf8feff478d89e54', pr_url=None, repo_url=RepoUrl('https://huggingface.co/datasets/pufanyi/cassava-leaf-disease-classification', endpoint='https://huggingface.co', repo_type='dataset', repo_id='pufanyi/cassava-leaf-disease-classification'), pr_revision=None, pr_num=None)"
      ]
     },
     "execution_count": 12,
     "metadata": {},
     "output_type": "execute_result"
    }
   ],
   "source": [
    "final_data.push_to_hub(\"pufanyi/cassava-leaf-disease-classification\", \"resized\")"
   ]
  },
  {
   "cell_type": "code",
   "execution_count": null,
   "metadata": {},
   "outputs": [],
   "source": []
  }
 ],
 "metadata": {
  "kernelspec": {
   "display_name": "sc4000",
   "language": "python",
   "name": "python3"
  },
  "language_info": {
   "codemirror_mode": {
    "name": "ipython",
    "version": 3
   },
   "file_extension": ".py",
   "mimetype": "text/x-python",
   "name": "python",
   "nbconvert_exporter": "python",
   "pygments_lexer": "ipython3",
   "version": "3.11.10"
  }
 },
 "nbformat": 4,
 "nbformat_minor": 2
}
