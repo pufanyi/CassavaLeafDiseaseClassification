{
 "cells": [
  {
   "cell_type": "code",
   "execution_count": 26,
   "metadata": {},
   "outputs": [],
   "source": [
    "from pathlib import Path\n",
    "import json"
   ]
  },
  {
   "cell_type": "code",
   "execution_count": 27,
   "metadata": {},
   "outputs": [],
   "source": [
    "# convnextv2_results = \"/data/pufanyi/project/SC4000/output/eval/convnextv2-cassava-leaf-disease-classification_full_train_2024-10-28-16-59-31/\"\n",
    "# # pufanyi/SC4000_ConvNeXtV2_base_balanced_12500\n",
    "# convnextv2_balanced_results = \"/data/pufanyi/project/SC4000/output/eval/convnextv2-cassava-leaf-disease-classification_full_train_2024-10-28-17-04-19\"\n",
    "# mobilenetv3_results = \"/data/pufanyi/project/SC4000/output/eval/mobilenetv3-cassava-leaf-disease-classification_full_train_2024-10-28-17-16-02\"\n",
    "# vit_results = \"/data/pufanyi/project/SC4000/output/eval/vit-cassava-leaf-disease-classification_full_train_2024-10-28-17-12-27\""
   ]
  },
  {
   "cell_type": "code",
   "execution_count": 61,
   "metadata": {},
   "outputs": [],
   "source": [
    "convnextv2_results = \"/data/pufanyi/project/SC4000/output/eval/convnextv2-cassava-leaf-disease-classification_full_validation_2024-10-28-18-07-13\"\n",
    "\n",
    "convnextv2_balanced_results = \"/data/pufanyi/project/SC4000/output/eval/convnextv2-cassava-leaf-disease-classification_full_validation_2024-10-28-18-07-40\"\n",
    "\n",
    "mobilenetv3_results = \"/data/pufanyi/project/SC4000/output/eval/mobilenetv3-cassava-leaf-disease-classification_full_validation_2024-10-28-18-08-46\"\n",
    "\n",
    "vit_results = \"/data/pufanyi/project/SC4000/output/eval/vit-cassava-leaf-disease-classification_full_validation_2024-10-28-18-08-17\""
   ]
  },
  {
   "cell_type": "code",
   "execution_count": 62,
   "metadata": {},
   "outputs": [],
   "source": [
    "def get_results(results_dir):\n",
    "    results_path = Path(results_dir) / \"result.json\"\n",
    "    with results_path.open() as f:\n",
    "        results = json.load(f)\n",
    "    results_dict = {}\n",
    "    for result in results[\"result\"]:\n",
    "        results_dict[result[\"image_id\"]] = result[\"logs\"]\n",
    "    return results_dict"
   ]
  },
  {
   "cell_type": "code",
   "execution_count": 63,
   "metadata": {},
   "outputs": [],
   "source": [
    "def get_answer(results_dir):\n",
    "    results_path = Path(results_dir) / \"result.json\"\n",
    "    with results_path.open() as f:\n",
    "        results = json.load(f)\n",
    "    results_dict = {}\n",
    "    for result in results[\"result\"]:\n",
    "        results_dict[result[\"image_id\"]] = result[\"answer\"]\n",
    "    return results_dict"
   ]
  },
  {
   "cell_type": "code",
   "execution_count": 64,
   "metadata": {},
   "outputs": [],
   "source": [
    "answer = get_answer(convnextv2_results)"
   ]
  },
  {
   "cell_type": "code",
   "execution_count": 65,
   "metadata": {},
   "outputs": [],
   "source": [
    "results = {\n",
    "    \"convnextv2\": get_results(convnextv2_results),\n",
    "    \"convnextv2_balanced\": get_results(convnextv2_balanced_results),\n",
    "    \"mobilenetv3\": get_results(mobilenetv3_results),\n",
    "    \"vit\": get_results(vit_results),\n",
    "}"
   ]
  },
  {
   "cell_type": "code",
   "execution_count": 66,
   "metadata": {},
   "outputs": [
    {
     "name": "stdout",
     "output_type": "stream",
     "text": [
      "convnextv2 1070\n",
      "convnextv2_balanced 1070\n",
      "mobilenetv3 1070\n",
      "vit 1070\n"
     ]
    }
   ],
   "source": [
    "for key, l in results.items():\n",
    "    print(key, len(l))"
   ]
  },
  {
   "cell_type": "code",
   "execution_count": 67,
   "metadata": {},
   "outputs": [],
   "source": [
    "data = []\n",
    "\n",
    "for image_id in answer:\n",
    "    data.append(\n",
    "        {\n",
    "            \"image_id\": image_id,\n",
    "            \"answer\": answer[image_id],\n",
    "            **{model: res[image_id] for model, res in results.items()},\n",
    "        }\n",
    "    )"
   ]
  },
  {
   "cell_type": "code",
   "execution_count": 68,
   "metadata": {},
   "outputs": [],
   "source": [
    "import pandas as pd\n",
    "\n",
    "df = pd.DataFrame(data)"
   ]
  },
  {
   "cell_type": "code",
   "execution_count": 69,
   "metadata": {},
   "outputs": [
    {
     "data": {
      "text/html": [
       "<div>\n",
       "<style scoped>\n",
       "    .dataframe tbody tr th:only-of-type {\n",
       "        vertical-align: middle;\n",
       "    }\n",
       "\n",
       "    .dataframe tbody tr th {\n",
       "        vertical-align: top;\n",
       "    }\n",
       "\n",
       "    .dataframe thead th {\n",
       "        text-align: right;\n",
       "    }\n",
       "</style>\n",
       "<table border=\"1\" class=\"dataframe\">\n",
       "  <thead>\n",
       "    <tr style=\"text-align: right;\">\n",
       "      <th></th>\n",
       "      <th>image_id</th>\n",
       "      <th>answer</th>\n",
       "      <th>convnextv2</th>\n",
       "      <th>convnextv2_balanced</th>\n",
       "      <th>mobilenetv3</th>\n",
       "      <th>vit</th>\n",
       "    </tr>\n",
       "  </thead>\n",
       "  <tbody>\n",
       "    <tr>\n",
       "      <th>0</th>\n",
       "      <td>3384875851.jpg</td>\n",
       "      <td>3</td>\n",
       "      <td>[-3.6255342960357666, -1.5589333772659302, 3.1...</td>\n",
       "      <td>[-1.0212113857269287, -1.1479402780532837, 1.4...</td>\n",
       "      <td>[0.0009760967805050313, 0.011872063390910625, ...</td>\n",
       "      <td>[-2.5688140392303467, -1.91754150390625, 2.486...</td>\n",
       "    </tr>\n",
       "    <tr>\n",
       "      <th>1</th>\n",
       "      <td>1165503053.jpg</td>\n",
       "      <td>3</td>\n",
       "      <td>[-3.0364162921905518, -1.7804832458496094, -0....</td>\n",
       "      <td>[-0.2553289234638214, -0.6120381355285645, -0....</td>\n",
       "      <td>[5.545440217247233e-05, 0.0009158043540082872,...</td>\n",
       "      <td>[-2.50654935836792, -1.3025351762771606, -0.29...</td>\n",
       "    </tr>\n",
       "    <tr>\n",
       "      <th>2</th>\n",
       "      <td>2848007232.jpg</td>\n",
       "      <td>3</td>\n",
       "      <td>[-2.9825754165649414, -1.5856062173843384, 0.4...</td>\n",
       "      <td>[-1.124006986618042, -0.8381869196891785, 0.63...</td>\n",
       "      <td>[0.0010300446301698685, 0.1493929773569107, 0....</td>\n",
       "      <td>[-1.7591975927352905, -1.7288086414337158, -0....</td>\n",
       "    </tr>\n",
       "    <tr>\n",
       "      <th>3</th>\n",
       "      <td>731606877.jpg</td>\n",
       "      <td>3</td>\n",
       "      <td>[-3.4885094165802, -1.2497446537017822, 3.8262...</td>\n",
       "      <td>[-0.3883638381958008, -0.42377811670303345, 1....</td>\n",
       "      <td>[2.6075305868289433e-05, 0.0006420664140023291...</td>\n",
       "      <td>[-3.52433180809021, -0.913058876991272, 3.8201...</td>\n",
       "    </tr>\n",
       "    <tr>\n",
       "      <th>4</th>\n",
       "      <td>2268050032.jpg</td>\n",
       "      <td>3</td>\n",
       "      <td>[-3.9142332077026367, -2.7957892417907715, -0....</td>\n",
       "      <td>[-0.2042015641927719, -1.1442240476608276, -0....</td>\n",
       "      <td>[7.402305072901072e-06, 1.2771777619491331e-05...</td>\n",
       "      <td>[-2.5766618251800537, -1.6451654434204102, -1....</td>\n",
       "    </tr>\n",
       "  </tbody>\n",
       "</table>\n",
       "</div>"
      ],
      "text/plain": [
       "         image_id  answer                                         convnextv2  \\\n",
       "0  3384875851.jpg       3  [-3.6255342960357666, -1.5589333772659302, 3.1...   \n",
       "1  1165503053.jpg       3  [-3.0364162921905518, -1.7804832458496094, -0....   \n",
       "2  2848007232.jpg       3  [-2.9825754165649414, -1.5856062173843384, 0.4...   \n",
       "3   731606877.jpg       3  [-3.4885094165802, -1.2497446537017822, 3.8262...   \n",
       "4  2268050032.jpg       3  [-3.9142332077026367, -2.7957892417907715, -0....   \n",
       "\n",
       "                                 convnextv2_balanced  \\\n",
       "0  [-1.0212113857269287, -1.1479402780532837, 1.4...   \n",
       "1  [-0.2553289234638214, -0.6120381355285645, -0....   \n",
       "2  [-1.124006986618042, -0.8381869196891785, 0.63...   \n",
       "3  [-0.3883638381958008, -0.42377811670303345, 1....   \n",
       "4  [-0.2042015641927719, -1.1442240476608276, -0....   \n",
       "\n",
       "                                         mobilenetv3  \\\n",
       "0  [0.0009760967805050313, 0.011872063390910625, ...   \n",
       "1  [5.545440217247233e-05, 0.0009158043540082872,...   \n",
       "2  [0.0010300446301698685, 0.1493929773569107, 0....   \n",
       "3  [2.6075305868289433e-05, 0.0006420664140023291...   \n",
       "4  [7.402305072901072e-06, 1.2771777619491331e-05...   \n",
       "\n",
       "                                                 vit  \n",
       "0  [-2.5688140392303467, -1.91754150390625, 2.486...  \n",
       "1  [-2.50654935836792, -1.3025351762771606, -0.29...  \n",
       "2  [-1.7591975927352905, -1.7288086414337158, -0....  \n",
       "3  [-3.52433180809021, -0.913058876991272, 3.8201...  \n",
       "4  [-2.5766618251800537, -1.6451654434204102, -1....  "
      ]
     },
     "execution_count": 69,
     "metadata": {},
     "output_type": "execute_result"
    }
   ],
   "source": [
    "df.head()"
   ]
  },
  {
   "cell_type": "code",
   "execution_count": 70,
   "metadata": {},
   "outputs": [
    {
     "data": {
      "text/plain": [
       "1070"
      ]
     },
     "execution_count": 70,
     "metadata": {},
     "output_type": "execute_result"
    }
   ],
   "source": [
    "len(df)"
   ]
  },
  {
   "cell_type": "code",
   "execution_count": 71,
   "metadata": {},
   "outputs": [],
   "source": [
    "import datasets\n",
    "\n",
    "data = datasets.Dataset.from_pandas(df)"
   ]
  },
  {
   "cell_type": "code",
   "execution_count": 72,
   "metadata": {},
   "outputs": [
    {
     "name": "stderr",
     "output_type": "stream",
     "text": [
      "Creating parquet from Arrow format: 100%|██████████| 2/2 [00:00<00:00, 210.72ba/s]\n",
      "Uploading the dataset shards: 100%|██████████| 1/1 [00:01<00:00,  1.68s/it]\n"
     ]
    },
    {
     "data": {
      "text/plain": [
       "CommitInfo(commit_url='https://huggingface.co/datasets/pufanyi/SC4000_eval_results/commit/fdfbaba515c1729e4c5d6ff93f4dbd2a37f099c4', commit_message='Upload dataset', commit_description='', oid='fdfbaba515c1729e4c5d6ff93f4dbd2a37f099c4', pr_url=None, repo_url=RepoUrl('https://huggingface.co/datasets/pufanyi/SC4000_eval_results', endpoint='https://huggingface.co', repo_type='dataset', repo_id='pufanyi/SC4000_eval_results'), pr_revision=None, pr_num=None)"
      ]
     },
     "execution_count": 72,
     "metadata": {},
     "output_type": "execute_result"
    }
   ],
   "source": [
    "data.push_to_hub(\"pufanyi/SC4000_eval_results\", \"full\", split=\"validation\")"
   ]
  },
  {
   "cell_type": "code",
   "execution_count": 74,
   "metadata": {},
   "outputs": [],
   "source": [
    "from sklearn.model_selection import train_test_split\n",
    "\n",
    "\n",
    "train_data, validation_data = train_test_split(df, test_size=0.2, random_state=42)"
   ]
  },
  {
   "cell_type": "code",
   "execution_count": 75,
   "metadata": {},
   "outputs": [],
   "source": [
    "train_data = datasets.Dataset.from_pandas(train_data)\n",
    "validation_data = datasets.Dataset.from_pandas(validation_data)"
   ]
  },
  {
   "cell_type": "code",
   "execution_count": 76,
   "metadata": {},
   "outputs": [
    {
     "name": "stderr",
     "output_type": "stream",
     "text": [
      "Creating parquet from Arrow format: 100%|██████████| 1/1 [00:00<00:00, 393.94ba/s]\n",
      "Uploading the dataset shards: 100%|██████████| 1/1 [00:01<00:00,  1.25s/it]\n",
      "Creating parquet from Arrow format: 100%|██████████| 1/1 [00:00<00:00, 229.50ba/s]\n",
      "Uploading the dataset shards: 100%|██████████| 1/1 [00:01<00:00,  1.14s/it]\n"
     ]
    },
    {
     "data": {
      "text/plain": [
       "CommitInfo(commit_url='https://huggingface.co/datasets/pufanyi/SC4000_eval_results/commit/d5e8b3ccf91bcdbf31737703124f78b2bdae78cd', commit_message='Upload dataset', commit_description='', oid='d5e8b3ccf91bcdbf31737703124f78b2bdae78cd', pr_url=None, repo_url=RepoUrl('https://huggingface.co/datasets/pufanyi/SC4000_eval_results', endpoint='https://huggingface.co', repo_type='dataset', repo_id='pufanyi/SC4000_eval_results'), pr_revision=None, pr_num=None)"
      ]
     },
     "execution_count": 76,
     "metadata": {},
     "output_type": "execute_result"
    }
   ],
   "source": [
    "train_data.push_to_hub(\"pufanyi/SC4000_eval_results\", \"val\", split=\"train\")\n",
    "validation_data.push_to_hub(\"pufanyi/SC4000_eval_results\", \"val\", split=\"validation\")"
   ]
  },
  {
   "cell_type": "code",
   "execution_count": null,
   "metadata": {},
   "outputs": [],
   "source": []
  }
 ],
 "metadata": {
  "kernelspec": {
   "display_name": "sc4000",
   "language": "python",
   "name": "python3"
  },
  "language_info": {
   "codemirror_mode": {
    "name": "ipython",
    "version": 3
   },
   "file_extension": ".py",
   "mimetype": "text/x-python",
   "name": "python",
   "nbconvert_exporter": "python",
   "pygments_lexer": "ipython3",
   "version": "3.11.10"
  }
 },
 "nbformat": 4,
 "nbformat_minor": 2
}
